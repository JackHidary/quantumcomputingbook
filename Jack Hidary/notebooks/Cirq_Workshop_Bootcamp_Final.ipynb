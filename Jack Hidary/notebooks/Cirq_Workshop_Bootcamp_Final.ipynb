{
  "nbformat": 4,
  "nbformat_minor": 0,
  "metadata": {
    "colab": {
      "name": "Cirq Workshop Bootcamp Final",
      "provenance": [],
      "collapsed_sections": [
        "KnA4uBkwEw5-"
      ],
      "toc_visible": true,
      "include_colab_link": true
    },
    "kernelspec": {
      "name": "python3",
      "display_name": "Python 3"
    }
  },
  "cells": [
    {
      "cell_type": "markdown",
      "metadata": {
        "id": "view-in-github",
        "colab_type": "text"
      },
      "source": [
        "<a href=\"https://colab.research.google.com/github/JackHidary/quantumcomputingbook/blob/master/Notes/Cirq_Workshop_Bootcamp_Final.ipynb\" target=\"_parent\"><img src=\"https://colab.research.google.com/assets/colab-badge.svg\" alt=\"Open In Colab\"/></a>"
      ]
    },
    {
      "cell_type": "markdown",
      "metadata": {
        "id": "8m9ye4AS6dE4",
        "colab_type": "text"
      },
      "source": [
        "![Cirq](https://github.com/quantumlib/cirq/raw/master/docs/Cirq_logo_color.svg?sanitize=true)\n",
        "\n",
        "\n",
        "[Cirq](https://github.com/quantumlib/cirq) is a framework for writing quantum algorithms for noisy intermediate scale quantum (NISQ) devices. Roughly speaking, NISQ devices are those with O(100) qubits that can enact O(1000) gates.  Because the resources for NISQ devices are so constrained we believe that a framework for writing programs on these devices needs to be aware of all of the architectural properties of the device on which the algorithm is written. This is in contrast to other frameworks where there is a clean separation between the abstract model being used and the details of the device.  \n",
        "\n",
        "In this tutorial we will teach you the basics of writing quantum alogorithms in Cirq. Our goal will be to write a variational ansatz for use in an optimization algorithm.\n",
        "\n",
        "---\n",
        "\n"
      ]
    },
    {
      "cell_type": "markdown",
      "metadata": {
        "id": "P2OBc27Elddh",
        "colab_type": "toc"
      },
      "source": [
        ">>[Installing Cirq](#scrollTo=rPgPbry6-mF3)\n",
        "\n",
        ">>[Qubits, Moments, Operations, and Circuits](#scrollTo=8A7a3jcql1l5)\n",
        "\n",
        ">>>[Create a Circuit](#scrollTo=VFwmWPf7D057)\n",
        "\n",
        ">>>[Building Circuits](#scrollTo=uaDb6B_jPgrb)\n",
        "\n",
        ">>>[Exercise: Create a circuit](#scrollTo=y9conKPAPn26)\n",
        "\n",
        ">>>>[Solution](#scrollTo=KnA4uBkwEw5-)\n",
        "\n",
        ">>[Simulations of a Circuit](#scrollTo=X15yPl_KQ20Z)\n",
        "\n",
        ">>>[Repetitions](#scrollTo=YLpiz0aN1Jd6)\n",
        "\n",
        ">>[The Deutsch-Jozsa Algorithm](#scrollTo=qFsytBIbOVD8)\n",
        "\n",
        ">>>[Exercise: Two Bit Deutsch-Jozsa Algorithm](#scrollTo=v4ka34Kuj4K0)\n",
        "\n",
        ">>>>[Solution](#scrollTo=L6vfs97CFZB2)\n",
        "\n",
        ">>[Gates](#scrollTo=mmhbPIhT4YAI)\n",
        "\n",
        ">>>[Custom Gate Implementation](#scrollTo=RACz4Z5GDMAf)\n",
        "\n",
        ">>>[Exercise: Custom Controlled Rx gate](#scrollTo=y63aDja8R4rc)\n",
        "\n",
        ">>>>[Solution](#scrollTo=7SoneHQRGeUW)\n",
        "\n",
        ">>>[Gate decompositions](#scrollTo=9W_Vlgpzz0D1)\n",
        "\n",
        ">>[Parameterized Circuits](#scrollTo=3HtlMxa6QpVo)\n",
        "\n",
        ">>>[Exercise: Rotate a qubit](#scrollTo=r-CjbPwkRI_I)\n",
        "\n",
        ">>[Noise](#scrollTo=FEM73JPALREa)\n",
        "\n",
        ">>>[Monte carlo simulations](#scrollTo=3qUM-Kpi8Iy4)\n",
        "\n",
        ">>>[Adding Noise to Circuits and Simulations](#scrollTo=weWPzaPx8zly)\n",
        "\n",
        ">>[Devices](#scrollTo=PvJCA3e0QsuI)\n",
        "\n",
        ">>>[Exercise: Make a Device](#scrollTo=lyFcloaARXg4)\n",
        "\n",
        ">>[Compiling / Optimizing](#scrollTo=J9ia4eatUQ_x)\n",
        "\n",
        ">>>[Exercise: Simplify flipped CNOTs](#scrollTo=--aUfkiaUb3S)\n",
        "\n",
        ">>[Google's Xmon Gates](#scrollTo=gM1ZW7TstvK9)\n",
        "\n"
      ]
    },
    {
      "cell_type": "markdown",
      "metadata": {
        "id": "rPgPbry6-mF3",
        "colab_type": "text"
      },
      "source": [
        "---\n",
        "## Installing Cirq\n",
        "\n",
        "To use Cirq one first needs to install Cirq.  Installation instructions are available [at cirq.readthedocs.io under 'Installing Cirq'](https://cirq.readthedocs.io/en/latest/install.html).  For the purpose of using this notebook, you can run pip install to install the latest release of Cirq.  Different notebook execution systems exist but for most they have \"run\" button on a cell, which you can push, or <shift>-<enter> is often the shortcut to run th cell.  Do so in the following cell should install Cirq. "
      ]
    },
    {
      "cell_type": "code",
      "metadata": {
        "id": "RlJBDvNgC00H",
        "colab_type": "code",
        "outputId": "f2036956-b88f-4c69-d415-5f86ce5ff76c",
        "colab": {
          "base_uri": "https://localhost:8080/",
          "height": 68
        }
      },
      "source": [
        "# install latest version\n",
        "!pip install cirq==0.5 --quiet\n",
        "\n",
        "# Alternatively, install directly from HEAD on github:\n",
        "# !pip install git+https://github.com/quantumlib/Cirq.git --quiet"
      ],
      "execution_count": 0,
      "outputs": [
        {
          "output_type": "stream",
          "text": [
            "\u001b[K     |████████████████████████████████| 716kB 2.9MB/s \n",
            "\u001b[K     |████████████████████████████████| 12.8MB 42.8MB/s \n",
            "\u001b[31mERROR: albumentations 0.1.12 has requirement imgaug<0.2.7,>=0.2.5, but you'll have imgaug 0.2.9 which is incompatible.\u001b[0m\n",
            "\u001b[?25h"
          ],
          "name": "stdout"
        }
      ]
    },
    {
      "cell_type": "markdown",
      "metadata": {
        "id": "GPjUqrK8DJTq",
        "colab_type": "text"
      },
      "source": [
        "(Note: you may see an error about `albumentations` requiring an old `imgaug`. You can ignore this error.)\n",
        "\n",
        "Let's check that Cirq has been successfully installed by importing Cirq and priting out a diagram of the Google's Bristlecone device. ![Google's Bristecone chip](https://4.bp.blogspot.com/-b9akad6ismU/WpmyaJo-cYI/AAAAAAAACa8/mCqPBJxv5oUivy6Jq42FSOQYkeRlTmkiwCLcBGAs/s1600/image1.png)"
      ]
    },
    {
      "cell_type": "code",
      "metadata": {
        "id": "FTrmLyq4C2gf",
        "colab_type": "code",
        "outputId": "e8ef722e-1c29-4fdb-dadb-458d7ca12bff",
        "colab": {
          "base_uri": "https://localhost:8080/",
          "height": 544
        }
      },
      "source": [
        "import cirq\n",
        "import numpy as np\n",
        "import matplotlib \n",
        "print(cirq.google.Bristlecone)"
      ],
      "execution_count": 0,
      "outputs": [
        {
          "output_type": "stream",
          "text": [
            "                                             (0, 5)────(0, 6)\n",
            "                                             │         │\n",
            "                                             │         │\n",
            "                                    (1, 4)───(1, 5)────(1, 6)────(1, 7)\n",
            "                                    │        │         │         │\n",
            "                                    │        │         │         │\n",
            "                           (2, 3)───(2, 4)───(2, 5)────(2, 6)────(2, 7)───(2, 8)\n",
            "                           │        │        │         │         │        │\n",
            "                           │        │        │         │         │        │\n",
            "                  (3, 2)───(3, 3)───(3, 4)───(3, 5)────(3, 6)────(3, 7)───(3, 8)───(3, 9)\n",
            "                  │        │        │        │         │         │        │        │\n",
            "                  │        │        │        │         │         │        │        │\n",
            "         (4, 1)───(4, 2)───(4, 3)───(4, 4)───(4, 5)────(4, 6)────(4, 7)───(4, 8)───(4, 9)───(4, 10)\n",
            "         │        │        │        │        │         │         │        │        │        │\n",
            "         │        │        │        │        │         │         │        │        │        │\n",
            "(5, 0)───(5, 1)───(5, 2)───(5, 3)───(5, 4)───(5, 5)────(5, 6)────(5, 7)───(5, 8)───(5, 9)───(5, 10)───(5, 11)\n",
            "         │        │        │        │        │         │         │        │        │        │\n",
            "         │        │        │        │        │         │         │        │        │        │\n",
            "         (6, 1)───(6, 2)───(6, 3)───(6, 4)───(6, 5)────(6, 6)────(6, 7)───(6, 8)───(6, 9)───(6, 10)\n",
            "                  │        │        │        │         │         │        │        │\n",
            "                  │        │        │        │         │         │        │        │\n",
            "                  (7, 2)───(7, 3)───(7, 4)───(7, 5)────(7, 6)────(7, 7)───(7, 8)───(7, 9)\n",
            "                           │        │        │         │         │        │\n",
            "                           │        │        │         │         │        │\n",
            "                           (8, 3)───(8, 4)───(8, 5)────(8, 6)────(8, 7)───(8, 8)\n",
            "                                    │        │         │         │\n",
            "                                    │        │         │         │\n",
            "                                    (9, 4)───(9, 5)────(9, 6)────(9, 7)\n",
            "                                             │         │\n",
            "                                             │         │\n",
            "                                             (10, 5)───(10, 6)\n"
          ],
          "name": "stdout"
        }
      ]
    },
    {
      "cell_type": "markdown",
      "metadata": {
        "id": "09zRgohCMiBs",
        "colab_type": "text"
      },
      "source": [
        "The import ran without raising an error, and the output is in fact the grid of qubits for the Bristlecone device. Looks like the install worked!\n",
        "\n",
        "Be aware that Cirq is still alpha software, meaning **we are still making breaking changes all the time**. If you don't want your project to suddenly go from working to not working when we release a new version, you should depend on a *specific version* of Cirq and periodically bump that version to the latest one. For the purposes of this tutorial, we will use version of `0.5` (i.e. `cirq==0.5` in pip's version notation).\n",
        "\n",
        "---"
      ]
    },
    {
      "cell_type": "markdown",
      "metadata": {
        "id": "8A7a3jcql1l5",
        "colab_type": "text"
      },
      "source": [
        "## Qubits, Moments, Operations, and Circuits\n",
        " \n",
        " In Cirq, circuits are represented either by a `Circuit` object or a `Schedule` object. `Schedule`s offer more control over quantum gates and circuits at the timing level.\n",
        "\n",
        "Conceptually: a `Circuit` is a collection of `Moment`s. A `Moment` is a collection of `Operation`s that all act during the same abstract time slice. An `Operation` is a an effect that operates on a specific subset of Qubits. The most common type of `Operation` is a `Gate` applied to several qubits (a \"`GateOperation`\"). The following diagram should help illustrate these concepts.\n",
        "\n",
        "![Circuits, Moments, and Operations.](https://cirq.readthedocs.io/en/latest/_images/CircuitMomentOperation.png)"
      ]
    },
    {
      "cell_type": "markdown",
      "metadata": {
        "id": "VFwmWPf7D057",
        "colab_type": "text"
      },
      "source": [
        "### Create a Circuit\n",
        "\n",
        "Let's create a `Circuit`.  Note that in the previous cell we imported cirq, so we will assume that cirq has been imported through out the rest of this notebook."
      ]
    },
    {
      "cell_type": "code",
      "metadata": {
        "id": "pE88WsFeDGfs",
        "colab_type": "code",
        "outputId": "1cd2f7ca-19a6-46d6-87c3-b082ff88ffed",
        "colab": {
          "base_uri": "https://localhost:8080/",
          "height": 102
        }
      },
      "source": [
        "a = cirq.NamedQubit(\"a\")\n",
        "b = cirq.NamedQubit(\"b\")\n",
        "c = cirq.NamedQubit(\"c\")\n",
        "ops = [cirq.H(a), cirq.H(b), cirq.CNOT(b, c), cirq.H(b)]\n",
        "circuit = cirq.Circuit.from_ops(ops)\n",
        "print(circuit)"
      ],
      "execution_count": 0,
      "outputs": [
        {
          "output_type": "stream",
          "text": [
            "a: ───H───────────\n",
            "\n",
            "b: ───H───@───H───\n",
            "          │\n",
            "c: ───────X───────\n"
          ],
          "name": "stdout"
        }
      ]
    },
    {
      "cell_type": "markdown",
      "metadata": {
        "id": "-06jQwEdI4DJ",
        "colab_type": "text"
      },
      "source": [
        "We can unpack this a bit and see all of the components for the circuit.\n",
        "\n",
        "\n",
        "The first thing we do is pick some qubits to use. There are many different types of qubits in Cirq, and you can define your own by inheriting from the `cirq.Qid` class. There's nothing inherently special or magical about these quantum id types such as `cirq.NamedQubit`. They simply identify what you wish to operate on, which is relevant when you are targeting a specific device. For example, if we were creating a circuit for the Bristlecone device we would use `cirq.GridQubit(5, 0)` to refer to the qubit in the left most position of the device. To keep these simple for now, we'll start with abstract qubits simply identified by a name such as \"a\".\n",
        "```\n",
        "a = cirq.NamedQubit(\"a\")\n",
        "```\n",
        "\n",
        "Next we encounter of the object `cirq.H`, which is a Hadamard gate.  `cirq.H` is an instance of the `cirq.HGate` class, which itself is a subclass of `Gate` (along with other classes). \n",
        "$$H = {1 \\over \\sqrt{2}} \\left[ \\begin{array}[cc]  & 1 & 1  \\\\ 1 & -1 \\end{array}\\right]$$\n",
        "We can use cirq to see this unitary matrix:"
      ]
    },
    {
      "cell_type": "code",
      "metadata": {
        "id": "YKfg575v1DQB",
        "colab_type": "code",
        "outputId": "c4545dfe-b172-4d2f-af37-5bb866325c98",
        "colab": {
          "base_uri": "https://localhost:8080/",
          "height": 51
        }
      },
      "source": [
        "cirq.unitary(cirq.H)"
      ],
      "execution_count": 0,
      "outputs": [
        {
          "output_type": "execute_result",
          "data": {
            "text/plain": [
              "array([[ 0.70710678+0.j,  0.70710678+0.j],\n",
              "       [ 0.70710678+0.j, -0.70710678+0.j]])"
            ]
          },
          "metadata": {
            "tags": []
          },
          "execution_count": 5
        }
      ]
    },
    {
      "cell_type": "markdown",
      "metadata": {
        "id": "hJMAciW21KEg",
        "colab_type": "text"
      },
      "source": [
        "`Gate` objects have the ability to applied \"on\" to one or more qubits.  There are two ways to do this for gates, either using the `on` method or by directly calling the gate on the qubits as if the gate were a function and the qubits were arguments.  For example to apply the `H` onto qubit `a` we can say\n",
        "```\n",
        "cirq.H.on(a)\n",
        "```\n",
        "or \n",
        "```\n",
        "cirq.H(a)\n",
        "```\n",
        "\n",
        "The result of those expressions is a `GateOperation` object, which is a type of `Operation`.\n",
        "\n",
        "In cirq we make a strong distinction between `Operation`s and `Gate`s. An `Operation` is associated with specific qubits and can be put in `Circuit`s. A `Gate` has unspecified qubits, and will produce an operation when given qubits.\n",
        "\n",
        "Once you have a collection of operations, you can construct a `Circuit` using the class method `Circuit.from_ops` (more on that in a minute):\n",
        "```\n",
        "circuit = cirq.Circuit.from_ops(ops)\n",
        "```\n",
        "The last thing we did in the example code was use the (surprisingly useful) ability to print the circuit as a text diagram.\n",
        "\n",
        "The diagram is visually helpful, but it doesn't really get into the internal details of how the `Circuit` is represented. \n",
        "A `Circuit` is made up of a sequence of `Moment` objects.\n",
        "And each `Moment` object is a list of non-overlapping `Operation`s.\n",
        "To see this internal structure, we can iterate over the `Moment`s in the `Circuit` while printing them out."
      ]
    },
    {
      "cell_type": "code",
      "metadata": {
        "id": "hH-y4JiEMv25",
        "colab_type": "code",
        "outputId": "863afc8b-0ae8-488d-f714-0f554016949e",
        "colab": {
          "base_uri": "https://localhost:8080/",
          "height": 68
        }
      },
      "source": [
        "for i, moment in enumerate(circuit):\n",
        "    print('Moment {}: {}'.format(i, moment))"
      ],
      "execution_count": 0,
      "outputs": [
        {
          "output_type": "stream",
          "text": [
            "Moment 0: H(a) and H(b)\n",
            "Moment 1: CNOT(b, c)\n",
            "Moment 2: H(b)\n"
          ],
          "name": "stdout"
        }
      ]
    },
    {
      "cell_type": "markdown",
      "metadata": {
        "id": "pm5iC7MNQY6-",
        "colab_type": "text"
      },
      "source": [
        "We can also just print the circuit's `repr`, which returns a somewhat more detailed (if less readable) expression."
      ]
    },
    {
      "cell_type": "code",
      "metadata": {
        "id": "2Y6zG_peQG1y",
        "colab_type": "code",
        "outputId": "f4a8a5f9-b5be-42f1-f50a-6077f579105c",
        "colab": {
          "base_uri": "https://localhost:8080/",
          "height": 221
        }
      },
      "source": [
        "print(repr(circuit))"
      ],
      "execution_count": 0,
      "outputs": [
        {
          "output_type": "stream",
          "text": [
            "cirq.Circuit(moments=[\n",
            "    cirq.Moment(operations=[\n",
            "        cirq.H.on(cirq.NamedQubit('a')),\n",
            "        cirq.H.on(cirq.NamedQubit('b')),\n",
            "    ]),\n",
            "    cirq.Moment(operations=[\n",
            "        cirq.CNOT.on(cirq.NamedQubit('b'), cirq.NamedQubit('c')),\n",
            "    ]),\n",
            "    cirq.Moment(operations=[\n",
            "        cirq.H.on(cirq.NamedQubit('b')),\n",
            "    ]),\n",
            "])\n"
          ],
          "name": "stdout"
        }
      ]
    },
    {
      "cell_type": "markdown",
      "metadata": {
        "id": "zyVbU8yfW_qi",
        "colab_type": "text"
      },
      "source": [
        "The usefulness of printing the `repr` is that it includes *all* the gory details.\n",
        "These details can be useful when debugging.\n",
        "The `repr` is also a valid python expression that evaluates to the circuit.\n",
        "For example, if we notice that a circuit generated in some complicated way triggers a bug in a simulator, copy-pasting the generated circuit's `repr` into a test, and then working from there, is a simple way to decouple the reproduction of the bug from the circuit generation code."
      ]
    },
    {
      "cell_type": "markdown",
      "metadata": {
        "id": "uaDb6B_jPgrb",
        "colab_type": "text"
      },
      "source": [
        "### Building Circuits\n",
        "Above we created the `Circuit` using `from_ops`.  But there are many ways to construct and modify circuits, and each of these is useful in different contexts.  Here are a few examples:\n",
        "\n",
        "\n",
        "1.   `from_ops`: This is the simplest way to make a circuit. Give this method some operations, and out pops a circuit.\n",
        "2.  `append`:  `Circuit`s are mutable. You can start with an empty `c = cirq.Circuit()` and simply `c.append(operations)` to add on more and more operations \n",
        "3. `insert`:  Instead of appending, you can insert before a particular moment location (labeled by an integer index)\n",
        "4.  By using `Circuit`'s constructor, which takes a list of `Moment`s. Each `Moment` must be explicitly constructed with its own list of `Operation`s. This is tedious, but gives complete control over how the operations are layed out.\n",
        "\n",
        "One interesting, and extremely convenient, fact about `from_ops`, `append`, and `insert` is that they \"auto flatten\" whatever you give them.\n",
        "You *can* give them a list of operations, but you can also give them a list *of lists* of operations.\n",
        "Or a generator function that sometimes yields tuples of operations and other times yields individual operations.\n",
        "Or just a single operation (without a list around it).\n",
        "If it can recursively iterated into individual operations, `from_ops` and `append` and `insert` will take it.\n",
        "\n",
        "The main place where auto-flattening is useful is when you are generating a circuit's operations using generator functions.\n",
        "This is jumping a bit ahead of what we've explained, but basically auto-flattening means that generators producing operations for a circuit can simply `yield` sub-generators (instead of iterating over them and yielding their items):\n"
      ]
    },
    {
      "cell_type": "code",
      "metadata": {
        "id": "QFoV-eOE1tGN",
        "colab_type": "code",
        "outputId": "7eefda71-cd46-4c59-8b7b-bbd779c2b123",
        "colab": {
          "base_uri": "https://localhost:8080/",
          "height": 170
        }
      },
      "source": [
        "def xor_swap(a, b):\n",
        "    yield cirq.CNOT(a, b)\n",
        "    yield cirq.CNOT(b, a)\n",
        "    yield cirq.CNOT(a, b)\n",
        "  \n",
        "def left_rotate(qubits):\n",
        "    for i in range(len(qubits) - 1):\n",
        "        a, b = qubits[i:i+2]\n",
        "        yield xor_swap(a, b)\n",
        "\n",
        "line = cirq.LineQubit.range(5)\n",
        "print(cirq.Circuit.from_ops(left_rotate(line)))"
      ],
      "execution_count": 0,
      "outputs": [
        {
          "output_type": "stream",
          "text": [
            "0: ───@───X───@───────────────────────────────────────\n",
            "      │   │   │\n",
            "1: ───X───@───X───@───X───@───────────────────────────\n",
            "                  │   │   │\n",
            "2: ───────────────X───@───X───@───X───@───────────────\n",
            "                              │   │   │\n",
            "3: ───────────────────────────X───@───X───@───X───@───\n",
            "                                          │   │   │\n",
            "4: ───────────────────────────────────────X───@───X───\n"
          ],
          "name": "stdout"
        }
      ]
    },
    {
      "cell_type": "markdown",
      "metadata": {
        "id": "p9LUxAU41wWs",
        "colab_type": "text"
      },
      "source": [
        "You may have noticed that there is a hole in what we've explained so far.\n",
        "`from_ops` effectively takes a 1-dimensional sequence of operations, but the output is a 2-dimensional circuit (a list-of-lists-of-operations).\n",
        "There is a degree of freedom that hasn't been account for.\n",
        "Specifically: how does cirq choose the moment that each operation will be placed within?\n",
        "The answer is: it depends on the  `InsertStrategy` you choose.\n",
        "\n",
        "There are currently four insertion strategies in Cirq:\n",
        "\n",
        "1.  `InsertStrategy.EARLIEST` (currently the default)\n",
        "2. `InsertStrategy.NEW`,\n",
        "3. `InsertStrategy.INLINE`\n",
        "4.  `InsertStrategy.NEW_THEN_INLINE` \n",
        "\n",
        "`InsertStrategy.EARLIEST` is defined as\n",
        "> `InsertStrategy.EARLIEST`: Scans backward from the insert\n",
        "> location until a moment with operations touching qubits affected by the\n",
        "> operation to insert is found. The operation is added into the moment just\n",
        "> after that location.\n",
        "\n",
        "For example, if we first create an `Operation` in a single moment,\n",
        "and then use `InsertStrategy.EARLIEST` the `Operation` can slide back to this\n",
        "first `Moment` if there is space\n",
        "\n",
        "An `InsertStrategy` defines how ``Operations`` are placed in a `Circuit` when requested to be inserted at a given location.\n",
        "Here a `location` is identified by the index of the `Moment` in the `Circuit` that operations should be placed before (in the case of `Circuit.append` this means inserting at the index `len(circuit)`; which is one more than the largets moment index and so represents the end of the circuit)."
      ]
    },
    {
      "cell_type": "code",
      "metadata": {
        "id": "wNek1WjpX4MR",
        "colab_type": "code",
        "outputId": "0f6c34e5-95e2-4266-d590-83a08b893971",
        "colab": {
          "base_uri": "https://localhost:8080/",
          "height": 102
        }
      },
      "source": [
        "circuit = cirq.Circuit()\n",
        "circuit.append([cirq.CZ(a, b)])\n",
        "circuit.append([cirq.H(a), cirq.H(b), cirq.H(c)])\n",
        "print(circuit)"
      ],
      "execution_count": 0,
      "outputs": [
        {
          "output_type": "stream",
          "text": [
            "a: ───@───H───\n",
            "      │\n",
            "b: ───@───H───\n",
            "\n",
            "c: ───H───────\n"
          ],
          "name": "stdout"
        }
      ]
    },
    {
      "cell_type": "markdown",
      "metadata": {
        "id": "TcHeZM6qXvbS",
        "colab_type": "text"
      },
      "source": [
        "After creating the first moment with a `CZ` gate, the second\n",
        "append uses the `InsertStrategy.EARLIEST` strategy. The\n",
        "`H` on ``a`` and ``b`` cannot slide back, while the `H` on ``c`` can and so ends up in the first `Moment`.\n",
        "\n",
        "`InsertStrategy.EARLIEST` is the default strategy, the second most important strategy is `InsertStrategy.NEW_THEN_INLINE`:\n",
        "> `InsertStrategy.NEW_INLINE`: For the first operation, add it to a new \n",
        "> `Moment` the insertion point.  Attempts to add the operation after the first \n",
        "> operation to insert into the moment just before the desired insert location. \n",
        "> But, if there's already an existing operation affecting any of the qubits\n",
        "> touched by the operation to insert, a new moment is created instead and this \n",
        "> `Moment` is the one that is subsequently used for insertions.\n",
        "\n",
        "As an example of this examine this code"
      ]
    },
    {
      "cell_type": "code",
      "metadata": {
        "id": "qWVDhLxFYuRp",
        "colab_type": "code",
        "outputId": "566dcc0e-d8f6-49ea-cb2b-affc72c21353",
        "colab": {
          "base_uri": "https://localhost:8080/",
          "height": 102
        }
      },
      "source": [
        "circuit = cirq.Circuit()\n",
        "circuit.append([cirq.CZ(a, b)])\n",
        "circuit.append([cirq.H(c), cirq.H(b), cirq.H(b), cirq.H(a)], )\n",
        "print(circuit)"
      ],
      "execution_count": 0,
      "outputs": [
        {
          "output_type": "stream",
          "text": [
            "a: ───@───H───────\n",
            "      │\n",
            "b: ───@───H───H───\n",
            "\n",
            "c: ───H───────────\n"
          ],
          "name": "stdout"
        }
      ]
    },
    {
      "cell_type": "markdown",
      "metadata": {
        "id": "y9conKPAPn26",
        "colab_type": "text"
      },
      "source": [
        "### Exercise: Create a circuit\n",
        "\n",
        "Now that you've learned about `InsertStrategy`, here is an exercise to validate your understanding.  Create, using the least number of appends the following circuit (note that printing a circuit in Cirq does not always print a moment by moment structure e.g. to avoid overlapping operations in the diagram, but here imagine that you want exactly the moments indicated by the spacing of the circuit.)\n",
        "\n",
        "\n",
        "\n",
        "```\n",
        "a: ───@───H───────────H───H───\n",
        "      │\n",
        "b: ───@───────H───@───H───────\n",
        "                  │\n",
        "c: ───H───────────@───────────\n",
        "```\n",
        "\n"
      ]
    },
    {
      "cell_type": "markdown",
      "metadata": {
        "id": "KnA4uBkwEw5-",
        "colab_type": "text"
      },
      "source": [
        "#### Solution"
      ]
    },
    {
      "cell_type": "code",
      "metadata": {
        "id": "jP4VkPeHcjJT",
        "colab_type": "code",
        "cellView": "both",
        "outputId": "d9c2e321-c475-4107-b677-1a8aa785bc2d",
        "colab": {
          "base_uri": "https://localhost:8080/",
          "height": 126
        }
      },
      "source": [
        "#@title\n",
        "a = cirq.NamedQubit('a')\n",
        "b = cirq.NamedQubit('b')\n",
        "c = cirq.NamedQubit('c')\n",
        "circuit = cirq.Circuit()\n",
        "circuit.append([cirq.CZ(a, b), cirq.H(c), cirq.H(a)] )\n",
        "circuit.append([cirq.H(b), cirq.CZ(b, c), cirq.H(b), cirq.H(a), cirq.H(a)],\n",
        "               strategy=cirq.InsertStrategy.NEW_THEN_INLINE)\n",
        "print(circuit)"
      ],
      "execution_count": 0,
      "outputs": [
        {
          "output_type": "stream",
          "text": [
            "a: ───@───H───────────H───H───\n",
            "      │\n",
            "b: ───@───────H───@───H───────\n",
            "                  │\n",
            "c: ───H───────────@───────────\n"
          ],
          "name": "stdout"
        }
      ]
    },
    {
      "cell_type": "markdown",
      "metadata": {
        "id": "X15yPl_KQ20Z",
        "colab_type": "text"
      },
      "source": [
        "## Simulations of a Circuit\n",
        "\n",
        "Now that you know how to construct a `Circuit` in Cirq, let's use Cirq to simulate the circuit.\n",
        "\n",
        "Here is a simple circuit"
      ]
    },
    {
      "cell_type": "code",
      "metadata": {
        "id": "V6tZk3qGqBoH",
        "colab_type": "code",
        "outputId": "c334a530-4f52-40b5-c363-b22b620f217e",
        "colab": {
          "base_uri": "https://localhost:8080/",
          "height": 68
        }
      },
      "source": [
        "def basic_circuit(measure=True):\n",
        "    sqrt_x = cirq.X**0.5\n",
        "    cz = cirq.CZ\n",
        "    yield sqrt_x(a), sqrt_x(b)\n",
        "    yield cz(a, b)\n",
        "    yield sqrt_x(a), sqrt_x(b)\n",
        "    if measure:\n",
        "        yield cirq.measure(a,b)\n",
        "        \n",
        "circuit = cirq.Circuit.from_ops(basic_circuit())\n",
        "print(circuit)"
      ],
      "execution_count": 0,
      "outputs": [
        {
          "output_type": "stream",
          "text": [
            "a: ───X^0.5───@───X^0.5───M───\n",
            "              │           │\n",
            "b: ───X^0.5───@───X^0.5───M───\n"
          ],
          "name": "stdout"
        }
      ]
    },
    {
      "cell_type": "markdown",
      "metadata": {
        "id": "WpywVOeDqi4Q",
        "colab_type": "text"
      },
      "source": [
        "There are a few things to note here.  \n",
        "\n",
        "One is that we have used a Python *generator*. Recall that in Python functions that have a `yield` are *generators*. Generators are functions that act as *iterators*. Above we see that we can iterate over ``basic_circuit()``. We see that when we do this each of the `yields` produces what was yielded, and here these are `Operations`,\n",
        "or lists of ``Operations``. But when we pass this iterator to the append method, something magical happens. `Circuit` is able to flatten all of these an pass them as one giant list to `Circuit.append` (this also works for `Circuit.insert`).\n",
        "> The above idea uses a concept we call an ``OP_TREE``. An ``OP_TREE`` is\n",
        "> not a class, but a contract. The basic idea is that, if the input can be\n",
        "> iteratively flattened into a list of operations, then the input is an\n",
        "> ``OP_TREE``.\n",
        "\n",
        "A very nice pattern emerges from this structure: define *generators* for sub-circuits, which can vary by size\n",
        "or `Operation` parameters.\n",
        "\n",
        "Now we can simulate this circuit."
      ]
    },
    {
      "cell_type": "code",
      "metadata": {
        "id": "KmGuMjvGw_Ef",
        "colab_type": "code",
        "outputId": "eeb10381-43c0-47f4-a494-64d692e5cce3",
        "colab": {
          "base_uri": "https://localhost:8080/",
          "height": 51
        }
      },
      "source": [
        "simulator = cirq.Simulator()\n",
        "circuit = cirq.Circuit.from_ops(basic_circuit())\n",
        "result = simulator.run(circuit)\n",
        "print('Measurement results')\n",
        "print(result)"
      ],
      "execution_count": 0,
      "outputs": [
        {
          "output_type": "stream",
          "text": [
            "Measurement results\n",
            "a,b=1, 0\n"
          ],
          "name": "stdout"
        }
      ]
    },
    {
      "cell_type": "markdown",
      "metadata": {
        "id": "aHugx9T0z047",
        "colab_type": "text"
      },
      "source": [
        "Running this multiple times should result in different measurement results, since the above circuit produces a superposition over all computational basis states.   \n",
        "\n",
        "Above we used the `run` method on the simulator.  These methods mimic the actual hardware in that they don't give one access to unphysical objects like the wavefunction.  If one wants to get the wave function, then the `simulate` methods can do this:\n"
      ]
    },
    {
      "cell_type": "code",
      "metadata": {
        "id": "Apj7WiFZ0WFm",
        "colab_type": "code",
        "outputId": "b6ff4a3b-9864-4cd1-fa4c-125cef105cda",
        "colab": {
          "base_uri": "https://localhost:8080/",
          "height": 85
        }
      },
      "source": [
        "circuit = cirq.Circuit()\n",
        "circuit.append(basic_circuit(measure=False))    \n",
        "result = simulator.simulate(circuit, qubit_order=[a, b])\n",
        "\n",
        "print('Wavefunction:')\n",
        "print(np.around(result.final_state, 3))\n",
        "print('Dirac notation:')\n",
        "print(result.dirac_notation())"
      ],
      "execution_count": 0,
      "outputs": [
        {
          "output_type": "stream",
          "text": [
            "Wavefunction:\n",
            "[0.5+0.j  0. +0.5j 0. +0.5j 0.5+0.j ]\n",
            "Dirac notation:\n",
            "0.5|00⟩ + 0.5j|01⟩ + 0.5j|10⟩ + 0.5|11⟩\n"
          ],
          "name": "stdout"
        }
      ]
    },
    {
      "cell_type": "markdown",
      "metadata": {
        "id": "t18-sIJc0cvf",
        "colab_type": "text"
      },
      "source": [
        "Notice that we passed a `qubit_orde`r into the `simulate` method.  This order helps define the order of the kronecker product used in the resulting `final_state` vector.  The `qubit_order` argument is optional. When it is omitted, qubits are sorted ascending according to the ordering methods defined by their python class (for example `cirq.NamedQubit` sorts lexicographically by name).\n",
        "If there are multiple types of qubits in one circuit, the name of the type is used as a tie breaker.\n",
        "\n",
        "The simplest `qubit_order` value you can provide is a list of the qubits in the desired ordered. Any qubits from the circuit that are not in the list will be ordered using the  default `__str__` ordering, but come after qubits that are in the list. Be aware that all qubits in the list are included in the simulation, even if they are not operated on by the circuit.\n",
        "\n",
        "The mapping from the order of the qubits to the order of the  amplitudes in the wave function can be tricky to understand.  Basically, it is the same as the ordering used by `numpy.kron`.\n",
        "\n",
        "> If wave function is array \n",
        ">>(0.1, 0.2, 0.3, 0.4)\n",
        "\n",
        "> then this is \n",
        ">> 0.1|00⟩ + 0.2|01⟩ + 0.3|10⟩ + 0.4|11⟩ \n",
        "\n",
        ">in Dirac notation.  If the \n",
        ">> qubit order = [a, b]\n",
        "\n",
        ">then |00> means qubit a is in 0 and qubit b is in 0, |01> means \n",
        "> qubit a is 0 and qubit b is 1, etc.\n",
        "\n",
        "Another way to think about the qubit-to-amplitude ordering is as \"for loop ordering\":\n",
        "\n",
        "```\n",
        "for a in [0, 1]:\n",
        "    for b in [0, 1]:\n",
        "        print(a, b)\n",
        "```\n",
        "\n",
        "The first index (the outermost loop) is the slowest to vary."
      ]
    },
    {
      "cell_type": "markdown",
      "metadata": {
        "id": "YLpiz0aN1Jd6",
        "colab_type": "text"
      },
      "source": [
        "### Repetitions\n",
        "\n",
        "The simulator `run` methods also take an option for repeating the circuit. If \n",
        "the measurements in the circuit are terminal, and all other operations are unitary, this simulator is optimized to not recompute the wavefunction before sampling from the circuit.  So for example this code doesn't recompute the wave function but knows to sample from the final measurements"
      ]
    },
    {
      "cell_type": "code",
      "metadata": {
        "id": "QxkmBlo21lrQ",
        "colab_type": "code",
        "outputId": "38e875c3-d785-4d60-bbb4-7be32bd6a856",
        "colab": {
          "base_uri": "https://localhost:8080/",
          "height": 34
        }
      },
      "source": [
        "circuit = cirq.Circuit.from_ops(basic_circuit())\n",
        "result = simulator.run(circuit, repetitions=1000)\n",
        "print(result.histogram(key='a,b'))"
      ],
      "execution_count": 0,
      "outputs": [
        {
          "output_type": "stream",
          "text": [
            "Counter({1: 261, 2: 248, 3: 247, 0: 244})\n"
          ],
          "name": "stdout"
        }
      ]
    },
    {
      "cell_type": "markdown",
      "metadata": {
        "id": "bD0zX0zP2HxQ",
        "colab_type": "text"
      },
      "source": [
        "Here we have also demonstrated the use of the `histogram` method on the `result` which sums over all the different results for all of the different repetitions.\n",
        "\n",
        "The `histogram` method can also be given a `fold_func` argument, in order to group measurement results under some key before counting them up.\n",
        "For example, we can group by whether or not the two measurement results agreed:"
      ]
    },
    {
      "cell_type": "code",
      "metadata": {
        "id": "rPqVUsD9snYf",
        "colab_type": "code",
        "outputId": "a5010f7b-1e40-4413-f612-a771b36fb985",
        "colab": {
          "base_uri": "https://localhost:8080/",
          "height": 34
        }
      },
      "source": [
        "print(result.histogram(key='a,b', fold_func=lambda e: 'agree' if e[0] == e[1] else 'disagree'))"
      ],
      "execution_count": 0,
      "outputs": [
        {
          "output_type": "stream",
          "text": [
            "Counter({'disagree': 509, 'agree': 491})\n"
          ],
          "name": "stdout"
        }
      ]
    },
    {
      "cell_type": "markdown",
      "metadata": {
        "id": "qFsytBIbOVD8",
        "colab_type": "text"
      },
      "source": [
        "## The Deutsch-Jozsa Algorithm\n",
        "\n",
        "The very first indication that quantum computers could be more powerful than classical computers was provided by David Deutsch in his 1985 paper:\n",
        "> David Deutsch,  \"Quantum Theory, the Church-Turing Principle and the Universal Quantum Computer\" Proceedings of the Royal Society of London A. 400: 97 [PDF](https://people.eecs.berkeley.edu/~christos/classics/Deutsch_quantum_theory.pdf)\n",
        "\n",
        "This algorithm was extended by Deutsch and Richard Jozsa to a more convincing algorithmic seperation and what is now called the Deutsch-Jozsa algorithm.  In this section we will show how to write circuits for the Deutsch algorithm and then as an exercise in using Cirq for algorithms for a small version of the Deutsch-Jozsa algorithm.\n",
        "\n",
        "Let's begin with the Deutsch algorithm.  In Deutsch's algorithm you are given access to a box which computes a one bit boolean function.  That is it is a box which takes in a bit and outputs a bit.  If we want to be a mathematician or theoretical computer scientist we write the function $f$ as $f: \\{0, 1\\} \\rightarrow \\{0, 1\\}$.  There are exactly four such boolean functions which we can write out in a table\n",
        "\n",
        "| $x$ | $f_0$ | $f_1$ | $f_x$ | $f_{\\bar{x}}$ |\n",
        "| --- |  --- | --- | --- | --- |\n",
        "| 0 | 0 | 1 | 0 | 1\n",
        "| 1 | 0 | 1 | 1 | 0\n",
        "\n",
        "The first two of these are *constant* functions, $f_0$ and $f_1$.  That is they always output a constant value.  The other two $f_x$ and $f_\\bar{x}$ are *balanced*.  Over their inputs $0$ and $1$, they have an equal number of $0$s and $1$s in their truth table.  \n",
        "\n",
        "We can now state Deutsch's problem:\n",
        "\n",
        "> Given access to a one bit input one bit output boolean function, determine, by querying the function whether the function is *balanced* or *constant*.\n",
        "\n",
        "It shouldn't take you much to convince yourself that in order to solve this problem classically you need to call the function on both possible input values.  The easy way to see this is just to consider what happens if you query the function on one particular input and notice that for either input learning the value of the function does not separate the constant from balanced functions.\n",
        "\n",
        "**Classically one must query the binary function twice to distinguish the constant function from the balanced function.**\n",
        "\n",
        "\n",
        "\n",
        "\n",
        "\n"
      ]
    },
    {
      "cell_type": "markdown",
      "metadata": {
        "id": "UAec5ZBuSWYU",
        "colab_type": "text"
      },
      "source": [
        "Now lets turn to the quantum approach to this problem.  There is one bit of book keeping we need to take care of.  Above we have described a classical function on bits that is not reversible.  That is, knowing the values of the output does not allow us to determine uniquely the value of the input.  In order to run this on a quantum computer, however we need to make this computation reversible.  A trick for taking a classical non-reversible function and making it quantum happy is to compute the value in an extra register.  Suppose we have an $n$ bit input $x$ and we are computing a (potentially non-reverisble) boolean function $f(x)$.  Then we can implement this via a Unitary $U_f$ that acts like on $n + 1$ qubits\n",
        "\n",
        "$$U_f |x\\rangle |y\\rangle = |x\\rangle | y \\oplus f(x)\\rangle$$\n",
        "\n",
        "Here $\\oplus$ is addition modulo $2$ (XOR) and we have identified how $U_f$ acts by its action on all computational basis states $|x\\rangle$ ($n$ input qubits) and ($1$ output qubit)$|y\\rangle$. To see that this is reversible one can note that applying the transformation twice returns the state to its original form.\n",
        "\n",
        "Let's see how to implement these functions in Cirq.\n",
        "\n",
        "$f_0$ enacts the transform\n",
        "$$\n",
        "\\begin{eqnarray}\n",
        "|00\\rangle &\\rightarrow&  |00\\rangle \\\\\n",
        "|01\\rangle &\\rightarrow&  |01\\rangle \\\\\n",
        "|10\\rangle &\\rightarrow&  |10\\rangle \\\\\n",
        "|11\\rangle &\\rightarrow&  |11\\rangle \\\\\n",
        "\\end{eqnarray}\n",
        "$$\n",
        "Well this is just the identity transform, i.e. an empty circuit.\n",
        "\n",
        "$f_1$ enacts the transform\n",
        "$$\n",
        "\\begin{eqnarray}\n",
        "|00\\rangle &\\rightarrow&  |01\\rangle \\\\\n",
        "|01\\rangle &\\rightarrow&  |00\\rangle \\\\\n",
        "|10\\rangle &\\rightarrow&  |11\\rangle \\\\\n",
        "|11\\rangle &\\rightarrow&  |10\\rangle \\\\\n",
        "\\end{eqnarray}\n",
        "$$\n",
        "This is the `cirq.X` bit flip gate on the second qubit.\n",
        "\n",
        "$f_x$ enacts the transform\n",
        "$$\n",
        "\\begin{eqnarray}\n",
        "|00\\rangle &\\rightarrow&  |00\\rangle \\\\\n",
        "|01\\rangle &\\rightarrow&  |01\\rangle \\\\\n",
        "|10\\rangle &\\rightarrow&  |11\\rangle \\\\\n",
        "|11\\rangle &\\rightarrow&  |10\\rangle \\\\\n",
        "\\end{eqnarray}\n",
        "$$\n",
        "This is nothing more than a `cirq.CNOT` from the first bit to the second bit.\n",
        "\n",
        "Finally $f_\\bar{x}$ enacts the transform\n",
        "$$\n",
        "\\begin{eqnarray}\n",
        "|00\\rangle &\\rightarrow&  |01\\rangle \\\\\n",
        "|01\\rangle &\\rightarrow&  |00\\rangle \\\\\n",
        "|10\\rangle &\\rightarrow&  |10\\rangle \\\\\n",
        "|11\\rangle &\\rightarrow&  |11\\rangle \\\\\n",
        "\\end{eqnarray}\n",
        "$$\n",
        "which is a `cirq.CNOT` from the first bit to the second bit followed by a `cirq.X` on the second bit.\n",
        "\n",
        "We can encapulate these functions into a dictionary from a oracle name to the ops in the circuit needed to enact this function:\n"
      ]
    },
    {
      "cell_type": "code",
      "metadata": {
        "id": "YtWiBHonly69",
        "colab_type": "code",
        "colab": {}
      },
      "source": [
        "q0, q1 = cirq.LineQubit.range(2)\n",
        "oracles = {\n",
        "    '0': [],\n",
        "    '1': [cirq.X(q1)],\n",
        "    'x': [cirq.CNOT(q0, q1)],\n",
        "    'notx': [cirq.CNOT(q0, q1), cirq.X(q1)]\n",
        "}    "
      ],
      "execution_count": 0,
      "outputs": []
    },
    {
      "cell_type": "markdown",
      "metadata": {
        "id": "axCSYj3EmAEo",
        "colab_type": "text"
      },
      "source": [
        "Turning now to Deutch's algorithm.  Suppose we are given access to the reversible oracle functions we have defined before.  By a similar argument for our irreversible classical functions you can show that you cannot distinguish the balanced from the constant functions by using this oracle only once.  But now we can ask the question: what if we are allowed to query this box in superposition, i.e. what if we can use the power of quantum computing?\n",
        "\n",
        "Deutsch was able to show that you could solve this problem now, with quantum computers, using only a single query of the box.  To see how this works we need two simple insights.\n",
        "\n",
        "Suppose that we prepare the second qubit in the superposition state $|-\\rangle=\\frac{1}{\\sqrt{2}}(|0\\rangle-|1\\rangle)$ and apply  the oracle.  Then we can check that\n",
        "$$ \n",
        "U_f |x\\rangle |-\\rangle = U_f|x\\rangle \\frac{1}{\\sqrt{2}}(|0\\rangle -|1\\rangle ) = |x\\rangle \\frac{1}{\\sqrt{2}}(|f(x)\\rangle -|f(x) \\oplus 1\\rangle ) =  (-1)^{f(x)} |x\\rangle |-\\rangle\n",
        "$$  \n",
        "This is the so called \"phase kickback trick\".  By applying $U_f$ onto a target which is in superposition, the value of the function ends up showing up in the global phase.  \n",
        "\n",
        "How can we leverage this to distinguish between the constant and balanced functions?  Note that for the constant functions the phase that is applied is the same for all inputs $|x\\rangle$, whereas for the balanced functions the phase is different for each value of $x$.   Another way to say that is that if we use the phase kickback trick then for each of the oracles we apply the following transform on the first qubit.\n",
        "$$\n",
        "\\begin{eqnarray}\n",
        "f_0 \\rightarrow I, &&\n",
        "f_1 \\rightarrow -I, &&\n",
        "f_x \\rightarrow Z, &&\n",
        "f_\\bar{x} \\rightarrow -Z &&\n",
        "\\end{eqnarray}\n",
        "$$\n",
        "Now we only need, on the first qubit, to distinguish between the identity gate and the $Z$ gate.  But we can do this by recalling the identity\n",
        "$$ H Z H = X$$\n",
        "where $H$ is the Hamadard gate\n",
        "$$H = {1 \\over \\sqrt{2}} \\left[ \\begin{array}[cc]  & 1 & 1  \\\\ 1 & -1 \\end{array}\\right]$$\n",
        "This means that we can turn a phase flip into a bit flip by applying Hadamards before and after the phase flip.  If we look at the constant and balanced functions we see that this means that the constant functions will be proportional to $I$ and the balanced will be proportional to $X$.  If we feed in $|0\\rangle$ to this register, then in the first cases we will only see $|0\\rangle$ and in the second case we will see $|1\\rangle$.  In other words we will be able to distinguish constant from balanced using a single query of the oracle.\n",
        "\n",
        "\n",
        "Let's code this up\n"
      ]
    },
    {
      "cell_type": "code",
      "metadata": {
        "id": "aMHzLxztj-gq",
        "colab_type": "code",
        "outputId": "39f47a81-ec55-436c-ac73-ff56fd3dcc7d",
        "colab": {
          "base_uri": "https://localhost:8080/",
          "height": 373
        }
      },
      "source": [
        "q0, q1 = cirq.LineQubit.range(2)\n",
        "oracles = {\n",
        "    '0': [],\n",
        "    '1': [cirq.X(q1)],\n",
        "    'x': [cirq.CNOT(q0, q1)],\n",
        "    'notx': [cirq.CNOT(q0, q1), cirq.X(q1)]\n",
        "}    \n",
        "\n",
        "def deutsch_algorithm(oracle):\n",
        "    yield cirq.X(q1)\n",
        "    yield cirq.H(q0), cirq.H(q1)\n",
        "    yield oracle\n",
        "    yield cirq.H(q0)\n",
        "    yield cirq.measure(q0)\n",
        "\n",
        "for key, oracle in oracles.items():\n",
        "    print('Circuit for {}...'.format(key))\n",
        "    print('{}\\n'.format(cirq.Circuit.from_ops(deutsch_algorithm(oracle))))"
      ],
      "execution_count": 0,
      "outputs": [
        {
          "output_type": "stream",
          "text": [
            "Circuit for 0...\n",
            "0: ───H───H───M───\n",
            "\n",
            "1: ───X───H───────\n",
            "\n",
            "Circuit for 1...\n",
            "0: ───H───H───M───\n",
            "\n",
            "1: ───X───H───X───\n",
            "\n",
            "Circuit for x...\n",
            "0: ───H───────@───H───M───\n",
            "              │\n",
            "1: ───X───H───X───────────\n",
            "\n",
            "Circuit for notx...\n",
            "0: ───H───────@───H───M───\n",
            "              │\n",
            "1: ───X───H───X───X───────\n",
            "\n"
          ],
          "name": "stdout"
        }
      ]
    },
    {
      "cell_type": "markdown",
      "metadata": {
        "id": "Zy-2ysxzweyv",
        "colab_type": "text"
      },
      "source": [
        "Lets run these circuits a bunch of times to see that the measurement result ends up correctly distinguishing constant from balanced."
      ]
    },
    {
      "cell_type": "code",
      "metadata": {
        "id": "ImffrBgJvLme",
        "colab_type": "code",
        "outputId": "502de354-439b-4b76-a750-8320c2678f27",
        "colab": {
          "base_uri": "https://localhost:8080/",
          "height": 88
        }
      },
      "source": [
        "simulator = cirq.Simulator()\n",
        "for key, oracle in oracles.items():\n",
        "    result = simulator.run(cirq.Circuit.from_ops(deutsch_algorithm(oracle)), \n",
        "                          repetitions=10)\n",
        "    print('oracle: {:<4} results: {}'.format(key, result))"
      ],
      "execution_count": 0,
      "outputs": [
        {
          "output_type": "stream",
          "text": [
            "oracle: 0    results: 0=0000000000\n",
            "oracle: 1    results: 0=0000000000\n",
            "oracle: x    results: 0=1111111111\n",
            "oracle: notx results: 0=1111111111\n"
          ],
          "name": "stdout"
        }
      ]
    },
    {
      "cell_type": "markdown",
      "metadata": {
        "id": "v4ka34Kuj4K0",
        "colab_type": "text"
      },
      "source": [
        "### Exercise: Two Bit Deutsch-Jozsa Algorithm\n",
        "\n",
        "All boolean functions for one input bit are either constant or balanced.  For boolean functions from two input bits not all functions are constant or balanced.  There are two constant functions, $f(x_0, x_1) = 0$ and $f(x_0, x_1)=1$, while there are ${4 \\choose 2} = 6$ balanced functions.  The following code gives you the operations for these functions where we take two input qubits and compute the function in the third qubit\n"
      ]
    },
    {
      "cell_type": "code",
      "metadata": {
        "id": "V5ZCXGCrxl4k",
        "colab_type": "code",
        "outputId": "b1d066f8-171f-46e3-aa4f-b27859ef6538",
        "colab": {
          "base_uri": "https://localhost:8080/",
          "height": 1003
        }
      },
      "source": [
        "q0, q1, q2 = cirq.LineQubit.range(3)\n",
        "constant = ([], [cirq.X(q2)])\n",
        "balanced = ([cirq.CNOT(q0, q2)], [cirq.CNOT(q1, q2)], [cirq.CNOT(q0, q2), cirq.CNOT(q1, q2)],\n",
        "            [cirq.CNOT(q0, q2), cirq.X(q2)], [ cirq.CNOT(q1, q2), cirq.X(q2)], [cirq.CNOT(q0, q2), cirq.CNOT(q1, q2), cirq.X(q2)])\n",
        "for i, ops in enumerate(constant):\n",
        "    print('\\nConstant function {}'.format(i))\n",
        "    print(cirq.Circuit.from_ops(ops).to_text_diagram(qubit_order=[q0, q1, q2]))\n",
        "    print()\n",
        "\n",
        "for i, ops in enumerate(balanced):\n",
        "    print('\\nBalanced function {}'.format(i))\n",
        "    print(cirq.Circuit.from_ops(ops).to_text_diagram(qubit_order=[q0, q1, q2]))\n",
        "    \n"
      ],
      "execution_count": 0,
      "outputs": [
        {
          "output_type": "stream",
          "text": [
            "\n",
            "Constant function 0\n",
            "0: ───\n",
            "\n",
            "1: ───\n",
            "\n",
            "2: ───\n",
            "\n",
            "\n",
            "Constant function 1\n",
            "0: ───────\n",
            "\n",
            "1: ───────\n",
            "\n",
            "2: ───X───\n",
            "\n",
            "\n",
            "Balanced function 0\n",
            "0: ───@───\n",
            "      │\n",
            "1: ───┼───\n",
            "      │\n",
            "2: ───X───\n",
            "\n",
            "Balanced function 1\n",
            "0: ───────\n",
            "\n",
            "1: ───@───\n",
            "      │\n",
            "2: ───X───\n",
            "\n",
            "Balanced function 2\n",
            "0: ───@───────\n",
            "      │\n",
            "1: ───┼───@───\n",
            "      │   │\n",
            "2: ───X───X───\n",
            "\n",
            "Balanced function 3\n",
            "0: ───@───────\n",
            "      │\n",
            "1: ───┼───────\n",
            "      │\n",
            "2: ───X───X───\n",
            "\n",
            "Balanced function 4\n",
            "0: ───────────\n",
            "\n",
            "1: ───@───────\n",
            "      │\n",
            "2: ───X───X───\n",
            "\n",
            "Balanced function 5\n",
            "0: ───@───────────\n",
            "      │\n",
            "1: ───┼───@───────\n",
            "      │   │\n",
            "2: ───X───X───X───\n"
          ],
          "name": "stdout"
        }
      ]
    },
    {
      "cell_type": "markdown",
      "metadata": {
        "id": "mr9ltXSJyB79",
        "colab_type": "text"
      },
      "source": [
        "An extension of Deutsch's orginal algorithm is the Deutsch-Jozsa algorithm, which can distinguish constant from balanced functions like these using a single query to the oracle.  Write a quantum circuit that can distinguish these "
      ]
    },
    {
      "cell_type": "code",
      "metadata": {
        "id": "qJP_e68e1JBs",
        "colab_type": "code",
        "colab": {}
      },
      "source": [
        "simulator = cirq.Simulator()\n",
        "def your_circuit(oracle):\n",
        "    # your code here\n",
        "    yield oracle\n",
        "    # and here\n",
        "    yield cirq.measure(q0, q1, q2)\n",
        "\n",
        "print('Your result on constant functions')\n",
        "for oracle in constant:\n",
        "    result = simulator.run(cirq.Circuit.from_ops(your_circuit(oracle)), repetitions=10)\n",
        "    print(result)\n",
        "    \n",
        "print('Your result on balanced functions')\n",
        "for oracle in balanced:\n",
        "    result = simulator.run(cirq.Circuit.from_ops(your_circuit(oracle)), repetitions=10)\n",
        "    print(result)"
      ],
      "execution_count": 0,
      "outputs": []
    },
    {
      "cell_type": "markdown",
      "metadata": {
        "id": "L6vfs97CFZB2",
        "colab_type": "text"
      },
      "source": [
        "#### Solution"
      ]
    },
    {
      "cell_type": "code",
      "metadata": {
        "id": "mUvm9rmRFb4p",
        "colab_type": "code",
        "cellView": "both",
        "outputId": "e8be7f58-7ab0-4c03-d6e2-4bdbda93a055",
        "colab": {
          "base_uri": "https://localhost:8080/",
          "height": 195
        }
      },
      "source": [
        "#@title\n",
        "simulator = cirq.Simulator()\n",
        "def your_circuit(oracle):\n",
        "    # phase kickback trick\n",
        "    yield cirq.X(q2), cirq.H(q2)\n",
        "    \n",
        "    # equal superposition over input bits\n",
        "    yield cirq.H(q0), cirq.H(q1)\n",
        "    \n",
        "    # query the function\n",
        "    yield oracle\n",
        "    \n",
        "    # interference to get result, put last qubit into |1>\n",
        "    yield cirq.H(q0), cirq.H(q1), cirq.H(q2)\n",
        "    \n",
        "    # a final OR gate to put result in final qubit\n",
        "    yield cirq.X(q0), cirq.X(q1), cirq.CCX(q0, q1, q2)\n",
        "    yield cirq.measure(q2)\n",
        "    \n",
        "\n",
        "print('Your result on constant functions')\n",
        "for oracle in constant:\n",
        "    result = simulator.run(cirq.Circuit.from_ops(your_circuit(oracle)), repetitions=10)\n",
        "    print(result)\n",
        "    \n",
        "print('Your result on balanced functions')\n",
        "for oracle in balanced:\n",
        "    result = simulator.run(cirq.Circuit.from_ops(your_circuit(oracle)), repetitions=10)\n",
        "    print(result)"
      ],
      "execution_count": 0,
      "outputs": [
        {
          "output_type": "stream",
          "text": [
            "Your result on constant functions\n",
            "2=0000000000\n",
            "2=0000000000\n",
            "Your result on balanced functions\n",
            "2=1111111111\n",
            "2=1111111111\n",
            "2=1111111111\n",
            "2=1111111111\n",
            "2=1111111111\n",
            "2=1111111111\n"
          ],
          "name": "stdout"
        }
      ]
    },
    {
      "cell_type": "markdown",
      "metadata": {
        "id": "mmhbPIhT4YAI",
        "colab_type": "text"
      },
      "source": [
        "## Gates"
      ]
    },
    {
      "cell_type": "markdown",
      "metadata": {
        "id": "F5ubTic94X79",
        "colab_type": "text"
      },
      "source": [
        "Cirq comes with a plethora of different common gates.  Here we show a few of them."
      ]
    },
    {
      "cell_type": "code",
      "metadata": {
        "id": "iIpoDaqK4yjV",
        "colab_type": "code",
        "outputId": "a45d27b8-42c6-4484-afed-9bc9e42b37b5",
        "colab": {
          "base_uri": "https://localhost:8080/",
          "height": 106
        }
      },
      "source": [
        "q0, q1, q2 = cirq.LineQubit.range(3)\n",
        "ops = [\n",
        "    cirq.X(q0),\n",
        "    cirq.Y(q1),\n",
        "    cirq.Z(q2),\n",
        "    cirq.CZ(q0,q1),\n",
        "    cirq.CNOT(q1,q2),\n",
        "    cirq.H(q0),\n",
        "    cirq.T(q1),\n",
        "    cirq.S(q2),\n",
        "    cirq.CCZ(q0, q1, q2),\n",
        "    cirq.SWAP(q0, q1),\n",
        "    cirq.CSWAP(q0, q1, q2),\n",
        "    cirq.CCX(q0, q1, q2),\n",
        "    cirq.ISWAP(q0, q1),\n",
        "    cirq.Rx(0.5 * np.pi)(q0),\n",
        "    cirq.Ry(.5 * np.pi)(q1),\n",
        "    cirq.Rz(0.5 * np.pi)(q2),\n",
        "    (cirq.X**0.5)(q0),\n",
        "]\n",
        "print(cirq.Circuit.from_ops(ops))"
      ],
      "execution_count": 0,
      "outputs": [
        {
          "output_type": "stream",
          "text": [
            "0: ───X───@───H───────@───×───@───@───iSwap──────Rx(0.5π)───X^0.5───\n",
            "          │           │   │   │   │   │\n",
            "1: ───Y───@───@───T───@───×───×───@───iSwap──────Ry(0.5π)───────────\n",
            "              │       │       │   │\n",
            "2: ───Z───────X───S───@───────×───X───Rz(0.5π)──────────────────────\n"
          ],
          "name": "stdout"
        }
      ]
    },
    {
      "cell_type": "markdown",
      "metadata": {
        "id": "FKRGtncT7R0v",
        "colab_type": "text"
      },
      "source": [
        "For each of these gates, you can figure out how they act on the computational basis by calling `cirq.unitary` on the gate.  For example"
      ]
    },
    {
      "cell_type": "code",
      "metadata": {
        "id": "7SUAT5F17afR",
        "colab_type": "code",
        "outputId": "7aecbabc-f890-4dd0-d587-0ed0feddef7c",
        "colab": {
          "base_uri": "https://localhost:8080/",
          "height": 88
        }
      },
      "source": [
        "print(cirq.unitary(cirq.CNOT))"
      ],
      "execution_count": 0,
      "outputs": [
        {
          "output_type": "stream",
          "text": [
            "[[1.+0.j 0.+0.j 0.+0.j 0.+0.j]\n",
            " [0.+0.j 1.+0.j 0.+0.j 0.+0.j]\n",
            " [0.+0.j 0.+0.j 0.+0.j 1.+0.j]\n",
            " [0.+0.j 0.+0.j 1.+0.j 0.+0.j]]\n"
          ],
          "name": "stdout"
        }
      ]
    },
    {
      "cell_type": "code",
      "metadata": {
        "id": "Me6u5EQY76KA",
        "colab_type": "code",
        "outputId": "c4023c93-df7d-434e-cf2f-69b0fec0b7e9",
        "colab": {
          "base_uri": "https://localhost:8080/",
          "height": 53
        }
      },
      "source": [
        "print(cirq.unitary(cirq.Rx(0.5 * np.pi)))"
      ],
      "execution_count": 0,
      "outputs": [
        {
          "output_type": "stream",
          "text": [
            "[[0.70710678+0.j         0.        -0.70710678j]\n",
            " [0.        -0.70710678j 0.70710678+0.j        ]]\n"
          ],
          "name": "stdout"
        }
      ]
    },
    {
      "cell_type": "markdown",
      "metadata": {
        "id": "flm4CcqT2DoI",
        "colab_type": "text"
      },
      "source": [
        "For single qubit gates, we have named gates like `cirq.H` for the Hadmard gate, but probably more useful are the single qubit rotation gates.\n",
        "\n",
        "$$ \n",
        "{\\tt cirq.Rx(θ)}: \\exp(-i \\theta X) = cos \\theta I - i \\sin \\theta X =\\left[ \\begin{array} ~\\cos \\theta & -i \\sin \\theta \\\\ -i \\sin \\theta & \\cos \\theta\\end{array} \\right] \\\\\n",
        "$$ \n",
        "$$ \n",
        "{\\tt cirq.Ry(θ)}: \\exp(-i \\theta Y) = cos \\theta I - i \\sin \\theta Y =\\left[ \\begin{array} ~\\cos \\theta &  -\\sin \\theta \\\\  \\sin \\theta & \\cos \\theta\\end{array} \\right] \\\\\n",
        "$$ \n",
        "$$ \n",
        "{\\tt cirq.Rz(θ)}: \\exp(-i \\theta Z) = cos \\theta I - i \\sin \\theta Z =\\left[ \\begin{array} ~e^{i \\theta} & 0 \\\\ 0 & e^{-i \\theta} \\end{array} \\right] \\\\\n",
        "$$ \n",
        "\n",
        "In addition to `cirq.unitary` another important method (behind the scenes, anyways) is `cirq.apply_unitary_to_tensor`.  This allows you to apply a unitary gate onto a state.  Of course we could have applied the unitary directly to the state, using `cirq.unitary`.   We'll see below in understanding how these methods are implemented that the `cirq.apply_unitary_to_tensor` can be used to apply the gate more directly onto the state and can save allocations of memory to store the unitary.  \n",
        "\n",
        "If we apply `cirq.Rx` to a state we can see how it rotates the state.  To do this let us introduce a new simulate method `simulate_moment_steps`.  This allows us to simulate the circuit `Moment` by `Moment`.  At each point we can access the state.  For example here we can use this to create a circuit that is a series of small `cirq.Rx` rotations and plot the probablility of measureing the state in the $|0\\rangle$ state:"
      ]
    },
    {
      "cell_type": "code",
      "metadata": {
        "id": "UgoNBN1H8B6h",
        "colab_type": "code",
        "outputId": "b5b30c14-9896-472d-99de-89ffc1f5d9e7",
        "colab": {
          "base_uri": "https://localhost:8080/",
          "height": 371
        }
      },
      "source": [
        "a = cirq.NamedQubit('a')\n",
        "circuit = cirq.Circuit.from_ops([cirq.Rx(np.pi / 50.0)(a) for theta in range(200)])\n",
        "print('Circuit is a bunch of small rotations about Pauli X axis:')\n",
        "print('{}\\n'.format(circuit))\n",
        "p0 = []\n",
        "z = []\n",
        "print('We step through the circuit and plot the z component of the vector '\n",
        "      'as a function of index of the moment being stepped over.')\n",
        "for i, step in enumerate(simulator.simulate_moment_steps(circuit)):\n",
        "    prob = np.abs(step.state_vector()) ** 2\n",
        "    z.append(i)\n",
        "    p0.append(prob[0])\n",
        "matplotlib.pyplot.style.use('seaborn-whitegrid')\n",
        "matplotlib.pyplot.plot(z, p0, 'o')"
      ],
      "execution_count": 0,
      "outputs": [
        {
          "output_type": "stream",
          "text": [
            "Circuit is a bunch of small rotations about Pauli X axis:\n",
            "a: ───Rx(0.02π)───Rx(0.02π)───Rx(0.02π)───Rx(0.02π)───Rx(0.02π)───Rx(0.02π)───Rx(0.02π)───Rx(0.02π)───Rx(0.02π)───Rx(0.02π)───Rx(0.02π)───Rx(0.02π)───Rx(0.02π)───Rx(0.02π)───Rx(0.02π)───Rx(0.02π)───Rx(0.02π)───Rx(0.02π)───Rx(0.02π)───Rx(0.02π)───Rx(0.02π)───Rx(0.02π)───Rx(0.02π)───Rx(0.02π)───Rx(0.02π)───Rx(0.02π)───Rx(0.02π)───Rx(0.02π)───Rx(0.02π)───Rx(0.02π)───Rx(0.02π)───Rx(0.02π)───Rx(0.02π)───Rx(0.02π)───Rx(0.02π)───Rx(0.02π)───Rx(0.02π)───Rx(0.02π)───Rx(0.02π)───Rx(0.02π)───Rx(0.02π)───Rx(0.02π)───Rx(0.02π)───Rx(0.02π)───Rx(0.02π)───Rx(0.02π)───Rx(0.02π)───Rx(0.02π)───Rx(0.02π)───Rx(0.02π)───Rx(0.02π)───Rx(0.02π)───Rx(0.02π)───Rx(0.02π)───Rx(0.02π)───Rx(0.02π)───Rx(0.02π)───Rx(0.02π)───Rx(0.02π)───Rx(0.02π)───Rx(0.02π)───Rx(0.02π)───Rx(0.02π)───Rx(0.02π)───Rx(0.02π)───Rx(0.02π)───Rx(0.02π)───Rx(0.02π)───Rx(0.02π)───Rx(0.02π)───Rx(0.02π)───Rx(0.02π)───Rx(0.02π)───Rx(0.02π)───Rx(0.02π)───Rx(0.02π)───Rx(0.02π)───Rx(0.02π)───Rx(0.02π)───Rx(0.02π)───Rx(0.02π)───Rx(0.02π)───Rx(0.02π)───Rx(0.02π)───Rx(0.02π)───Rx(0.02π)───Rx(0.02π)───Rx(0.02π)───Rx(0.02π)───Rx(0.02π)───Rx(0.02π)───Rx(0.02π)───Rx(0.02π)───Rx(0.02π)───Rx(0.02π)───Rx(0.02π)───Rx(0.02π)───Rx(0.02π)───Rx(0.02π)───Rx(0.02π)───Rx(0.02π)───Rx(0.02π)───Rx(0.02π)───Rx(0.02π)───Rx(0.02π)───Rx(0.02π)───Rx(0.02π)───Rx(0.02π)───Rx(0.02π)───Rx(0.02π)───Rx(0.02π)───Rx(0.02π)───Rx(0.02π)───Rx(0.02π)───Rx(0.02π)───Rx(0.02π)───Rx(0.02π)───Rx(0.02π)───Rx(0.02π)───Rx(0.02π)───Rx(0.02π)───Rx(0.02π)───Rx(0.02π)───Rx(0.02π)───Rx(0.02π)───Rx(0.02π)───Rx(0.02π)───Rx(0.02π)───Rx(0.02π)───Rx(0.02π)───Rx(0.02π)───Rx(0.02π)───Rx(0.02π)───Rx(0.02π)───Rx(0.02π)───Rx(0.02π)───Rx(0.02π)───Rx(0.02π)───Rx(0.02π)───Rx(0.02π)───Rx(0.02π)───Rx(0.02π)───Rx(0.02π)───Rx(0.02π)───Rx(0.02π)───Rx(0.02π)───Rx(0.02π)───Rx(0.02π)───Rx(0.02π)───Rx(0.02π)───Rx(0.02π)───Rx(0.02π)───Rx(0.02π)───Rx(0.02π)───Rx(0.02π)───Rx(0.02π)───Rx(0.02π)───Rx(0.02π)───Rx(0.02π)───Rx(0.02π)───Rx(0.02π)───Rx(0.02π)───Rx(0.02π)───Rx(0.02π)───Rx(0.02π)───Rx(0.02π)───Rx(0.02π)───Rx(0.02π)───Rx(0.02π)───Rx(0.02π)───Rx(0.02π)───Rx(0.02π)───Rx(0.02π)───Rx(0.02π)───Rx(0.02π)───Rx(0.02π)───Rx(0.02π)───Rx(0.02π)───Rx(0.02π)───Rx(0.02π)───Rx(0.02π)───Rx(0.02π)───Rx(0.02π)───Rx(0.02π)───Rx(0.02π)───Rx(0.02π)───Rx(0.02π)───Rx(0.02π)───Rx(0.02π)───Rx(0.02π)───Rx(0.02π)───Rx(0.02π)───Rx(0.02π)───Rx(0.02π)───Rx(0.02π)───Rx(0.02π)───Rx(0.02π)───Rx(0.02π)───Rx(0.02π)───Rx(0.02π)───\n",
            "\n",
            "We step through the circuit and plot the z component of the vector as a function of index of the moment being stepped over.\n"
          ],
          "name": "stdout"
        },
        {
          "output_type": "execute_result",
          "data": {
            "text/plain": [
              "[<matplotlib.lines.Line2D at 0x7f73f4530908>]"
            ]
          },
          "metadata": {
            "tags": []
          },
          "execution_count": 24
        },
        {
          "output_type": "display_data",
          "data": {
            "image/png": "[encoded data removed]",
            "text/plain": [
              "<Figure size 432x288 with 1 Axes>"
            ]
          },
          "metadata": {
            "tags": []
          }
        }
      ]
    },
    {
      "cell_type": "markdown",
      "metadata": {
        "id": "6q0YkXSZBvzd",
        "colab_type": "text"
      },
      "source": [
        "Above we have given ourselves direct access to the wave function and calculated the exact probabilities.  Suppose we wanted to sample from the wave function at each point instead.  "
      ]
    },
    {
      "cell_type": "code",
      "metadata": {
        "id": "iynhJEvoCIro",
        "colab_type": "code",
        "outputId": "0a58d7c0-4873-4ff1-c78f-dbfa1027010b",
        "colab": {
          "base_uri": "https://localhost:8080/",
          "height": 280
        }
      },
      "source": [
        "repetitions = 100\n",
        "a = cirq.NamedQubit('a')\n",
        "circuit = cirq.Circuit.from_ops([cirq.Rx(np.pi / 50.0)(a) for theta in range(200)])\n",
        "p0 = []\n",
        "z = []\n",
        "for i, step in enumerate(simulator.simulate_moment_steps(circuit)):\n",
        "    samples = step.sample([a], repetitions=repetitions)\n",
        "    prob0 = np.sum(samples, axis=0)[0] / repetitions\n",
        "    p0.append(prob0)\n",
        "    z.append(i)\n",
        "matplotlib.pyplot.style.use('seaborn-whitegrid')\n",
        "matplotlib.pyplot.plot(z, p0, 'o')"
      ],
      "execution_count": 0,
      "outputs": [
        {
          "output_type": "execute_result",
          "data": {
            "text/plain": [
              "[<matplotlib.lines.Line2D at 0x7f73f455b7b8>]"
            ]
          },
          "metadata": {
            "tags": []
          },
          "execution_count": 25
        },
        {
          "output_type": "display_data",
          "data": {
            "image/png": "[encoded data removed]",
            "text/plain": [
              "<Figure size 432x288 with 1 Axes>"
            ]
          },
          "metadata": {
            "tags": []
          }
        }
      ]
    },
    {
      "cell_type": "markdown",
      "metadata": {
        "id": "RACz4Z5GDMAf",
        "colab_type": "text"
      },
      "source": [
        "### Custom Gate Implementation\n",
        "\n",
        "Supose there is a gate that you want Cirq to support, but it is not implemented in Cirq.  How do you go about adding a new gate?  \n",
        "\n",
        "Cirq tries to be Pythonic.  One way in which it does this is that it relies on Python's **protocol** pattern.  Protocols are similar to interfaces, in that they define a collection of methods that an object must support to implement a protocol, but different in that this requirement is more informal and not a part of a class or interface declaration.  An object supports a protocol if it implements the methods that the protocol defines.  You're probably familiar with this if you've ever done something like defined your own `Container` in Python.  To do this for an object you simply define the `__contains__`, `__setitem__`, and `__getitem__` methods on your object, and then you can use this object anywere the Container protocol is supported.  \n",
        "\n",
        "Let's see how this works for defining a custom gate.  The gate we will define is a single qubit gate that has only rational amplitudes. This is based on the famous 3, 4, 5 triangle you may remember from a long ago math class: $3^2 + 4^2 = 5^2$.  Using this observation we can construct normalized vectors and a unitary transform using on ratios of $3$, $4$, and $5$: \n",
        "$$\n",
        "\\zeta =\\left[ \\begin{array}\n",
        "~\\frac{3}{5} & \\frac{4}{5} \\\\\n",
        "-\\frac{4}{5} & \\frac{3}{5}\n",
        "\\end{array} \\right]\n",
        "$$\n",
        "\n",
        "Here is a simple implementation of this gate.  To do this we simply define a class that inherits from `cirq.SingleQubitGate` and implements the `cirq.SupportsUnitary` protocol by implementing the `_unitary_(self)` method.  We also define a `__str__` representation and by default Cirq will use this gate when priting out the gate in a circuit diagram.\n"
      ]
    },
    {
      "cell_type": "code",
      "metadata": {
        "id": "Y2a7t2qmLDTb",
        "colab_type": "code",
        "outputId": "ce7d52f8-5d8a-44b5-8546-bedba496030d",
        "colab": {
          "base_uri": "https://localhost:8080/",
          "height": 34
        }
      },
      "source": [
        "class RationalGate(cirq.SingleQubitGate):\n",
        "    \n",
        "    def _unitary_(self):\n",
        "        return np.array([[3 / 5, 4 / 5], [-4 / 5, 3 / 5]])\n",
        "    \n",
        "    def __str__(self):\n",
        "        return 'ζ'\n",
        "\n",
        "\n",
        "a = cirq.NamedQubit('a')\n",
        "rg = RationalGate()\n",
        "print(cirq.Circuit.from_ops([rg(a)]))"
      ],
      "execution_count": 0,
      "outputs": [
        {
          "output_type": "stream",
          "text": [
            "a: ───ζ───\n"
          ],
          "name": "stdout"
        }
      ]
    },
    {
      "cell_type": "code",
      "metadata": {
        "id": "x9dHKNfgMoyz",
        "colab_type": "code",
        "outputId": "a7383e94-5d29-4bb4-8490-33c1d6d7d81f",
        "colab": {
          "base_uri": "https://localhost:8080/",
          "height": 53
        }
      },
      "source": [
        "print(cirq.unitary(rg))"
      ],
      "execution_count": 0,
      "outputs": [
        {
          "output_type": "stream",
          "text": [
            "[[ 0.6  0.8]\n",
            " [-0.8  0.6]]\n"
          ],
          "name": "stdout"
        }
      ]
    },
    {
      "cell_type": "markdown",
      "metadata": {
        "id": "xmF-uscmPP_G",
        "colab_type": "text"
      },
      "source": [
        "Let's check that we can use this gate in a simulation."
      ]
    },
    {
      "cell_type": "code",
      "metadata": {
        "id": "_RXBrSQ8PWnu",
        "colab_type": "code",
        "outputId": "658eeb46-a7d9-43d6-a188-543d70114825",
        "colab": {
          "base_uri": "https://localhost:8080/",
          "height": 35
        }
      },
      "source": [
        "circuit = cirq.Circuit.from_ops([rg(a)])\n",
        "simulator = cirq.Simulator()\n",
        "result = simulator.simulate(circuit)\n",
        "print(result.final_state)"
      ],
      "execution_count": 0,
      "outputs": [
        {
          "output_type": "stream",
          "text": [
            "[ 0.6+0.j -0.8+0.j]\n"
          ],
          "name": "stdout"
        }
      ]
    },
    {
      "cell_type": "markdown",
      "metadata": {
        "id": "TY4zT46KQcjS",
        "colab_type": "text"
      },
      "source": [
        "Implemeting `_unitary_` allows cirq to call `cirq.unitary` on an object.\n",
        "\n",
        "There is actually an interesting advanced subtly here, which is that many methods in cirq that ostensibly depend on a gate's unitary try to avoid the `_unitary_` method, because it is extremely inefficient for gates over many qubits.\n",
        "In most cases the method `_apply_unitary_to_tensor_` will be used instead, if it is available.\n",
        "This method allows much more fine grained control on how a unitary is applied to a state, but it is harder to implemented as it is expected to e.g. use the pre-allocated workspace buffer that was given to it.\n",
        "Almost all of the basic gates we have defined in Cirq have this method implemented.\n",
        "TL;DR if you need to get performant multiqubit gates you should implement a custom `_apply_unitary_to_tensor_`."
      ]
    },
    {
      "cell_type": "markdown",
      "metadata": {
        "id": "y63aDja8R4rc",
        "colab_type": "text"
      },
      "source": [
        "### Exercise: Custom Controlled Rx gate\n",
        "\n",
        "Recall that the `cirq.Rx` gate is a rotation about the $X$ pauli axis:\n",
        "$$ \n",
        "{\\tt cirq.Rx(θ)}: \\exp(-i \\theta X) = cos \\theta I - i \\sin \\theta X =\\left[ \\begin{array} ~\\cos \\theta & -i \\sin \\theta \\\\ -i \\sin \\theta & \\cos \\theta\\end{array} \\right] \\\\\n",
        "$$ \n",
        "\n",
        "As an exercise, create a two qubit controlled `cirq.Rx` gate:\n",
        "$$\n",
        "{\\tt CRx(\\theta)}:\n",
        "\\left[\\begin{array}\n",
        "~1 & 0 & 0 & 0 \\\\\n",
        "0 & 1 & 0 & 0  \\\\\n",
        "0 & 0 & \\cos \\theta & -i \\sin \\theta \\\\\n",
        "0 & 0 & -i \\sin \\theta & \\cos \\theta\n",
        "\\end{array} \\right]\n",
        "$$"
      ]
    },
    {
      "cell_type": "code",
      "metadata": {
        "id": "9htgTzqAYHsA",
        "colab_type": "code",
        "outputId": "30a8c2a9-e00a-4fe8-dd83-c3f26c741d1f",
        "colab": {
          "base_uri": "https://localhost:8080/",
          "height": 34
        }
      },
      "source": [
        "class CRx(cirq.TwoQubitGate):\n",
        "\n",
        "    def __init__(self, theta):\n",
        "        self.theta = theta\n",
        "\n",
        "    def _unitary_(self):\n",
        "      return np.array([\n",
        "        \n",
        "      ])\n",
        "    \n",
        "\n",
        "    \n",
        "    pass\n",
        "\n",
        "    # Get this to print nicely in an ASCII circuit, you should also\n",
        "    # implement the _circuit_diagram_info_ method from the\n",
        "    # SupportsCircuitDiagramInfo protocol. You can return a tuple\n",
        "    # of strings from this method.\n",
        "\n",
        "\n",
        "print(np.around(cirq.unitary(CRx(0.25 * np.pi))))     "
      ],
      "execution_count": 0,
      "outputs": [
        {
          "output_type": "stream",
          "text": [
            "[]\n"
          ],
          "name": "stdout"
        }
      ]
    },
    {
      "cell_type": "code",
      "metadata": {
        "id": "zVsfg8erYhiw",
        "colab_type": "code",
        "outputId": "9500fb4e-767a-419c-8866-aa0235c07cdd",
        "colab": {
          "base_uri": "https://localhost:8080/",
          "height": 68
        }
      },
      "source": [
        "# Also get your class to print a circuit correctly.\n",
        "\n",
        "a = cirq.NamedQubit('a')\n",
        "b = cirq.NamedQubit('b')\n",
        "op = CRx(0.25 * np.pi)(a, b)\n",
        "print(cirq.Circuit.from_ops([op]))\n"
      ],
      "execution_count": 0,
      "outputs": [
        {
          "output_type": "stream",
          "text": [
            "a: ───<__main__.CRx object at 0x7f49e3ad3fd0>───\n",
            "      │\n",
            "b: ───#2────────────────────────────────────────\n"
          ],
          "name": "stdout"
        }
      ]
    },
    {
      "cell_type": "markdown",
      "metadata": {
        "id": "7SoneHQRGeUW",
        "colab_type": "text"
      },
      "source": [
        "#### Solution"
      ]
    },
    {
      "cell_type": "code",
      "metadata": {
        "id": "XaG8n5bdGgf2",
        "colab_type": "code",
        "colab": {}
      },
      "source": [
        "class CRx(cirq.TwoQubitGate):\n",
        "\n",
        "    def __init__(self, theta):\n",
        "        self.theta = theta\n",
        "\n",
        "    def _unitary_(self):\n",
        "      return np.array([\n",
        "          [1, 0, 0, 0],\n",
        "          [0, 1, 0, 0],\n",
        "          [0, 0, np.cos(self.theta), -1j * np.sin(self.theta)],\n",
        "          [0, 0, -1j * np.sin(self.theta), np.cos(self.theta)]\n",
        "      ])\n",
        "    \n",
        "    def _circuit_diagram_info_(self, args):\n",
        "        return '@', 'Rx({}π)'.format(self.theta / np.pi)\n",
        "    \n",
        "\n",
        "print('cirq.unitary on the gate yields:')\n",
        "print(np.around(cirq.unitary(CRx(0.25 * np.pi))))\n",
        "print()\n",
        "\n",
        "a = cirq.NamedQubit('a')\n",
        "b = cirq.NamedQubit('b')\n",
        "op = CRx(0.25 * np.pi)(a, b)\n",
        "print('Circuit diagram:')\n",
        "print(cirq.Circuit.from_ops([op]))"
      ],
      "execution_count": 0,
      "outputs": []
    },
    {
      "cell_type": "markdown",
      "metadata": {
        "id": "9W_Vlgpzz0D1",
        "colab_type": "text"
      },
      "source": [
        "### Gate decompositions"
      ]
    },
    {
      "cell_type": "markdown",
      "metadata": {
        "id": "Uun4giev4N8F",
        "colab_type": "text"
      },
      "source": [
        "In many context, the notion of what gate you can apply is defined either by the physical hardware you are running or perhaps on the quantum error correcting code you are working with.  In quantum computing we typically talk about **gate sets** and work with respect to a given gate set.  Cirq supports gate decomposition via the `decompose` protocol.  Below we show how one can construct a gate that can be decomposed into two gates."
      ]
    },
    {
      "cell_type": "code",
      "metadata": {
        "id": "9G-9_29h09Mx",
        "colab_type": "code",
        "outputId": "f79d5980-cc02-4269-d98b-da2359e4201c",
        "colab": {
          "base_uri": "https://localhost:8080/",
          "height": 51
        }
      },
      "source": [
        "class HXGate(cirq.SingleQubitGate):\n",
        "    \n",
        "    def _decompose_(self, qubits):\n",
        "        return cirq.H(*qubits), cirq.X(*qubits)\n",
        "    \n",
        "    def __str__(self):\n",
        "        return 'HX'\n",
        "    \n",
        "HX = HXGate()\n",
        "\n",
        "a = cirq.NamedQubit('a')\n",
        "circuit = cirq.Circuit.from_ops([HX(a)])\n",
        "print(circuit)\n",
        "print(cirq.Circuit.from_ops(cirq.decompose(circuit)))"
      ],
      "execution_count": 0,
      "outputs": [
        {
          "output_type": "stream",
          "text": [
            "a: ───HX───\n",
            "a: ───Y^0.5───X───X───\n"
          ],
          "name": "stdout"
        }
      ]
    },
    {
      "cell_type": "markdown",
      "metadata": {
        "id": "RLF1narS66iB",
        "colab_type": "text"
      },
      "source": [
        "Note that this not only decomposed the `HX` gate into `H` and `X`, it also decomposed `H` into `Y**0.5` and `X`.  In order to decompose only once, one can use `cirq.decompose_once`:"
      ]
    },
    {
      "cell_type": "code",
      "metadata": {
        "id": "AS-YMmAv6zUg",
        "colab_type": "code",
        "outputId": "258b3f2b-a847-4bfb-d021-e1c51aa94efb",
        "colab": {
          "base_uri": "https://localhost:8080/",
          "height": 35
        }
      },
      "source": [
        "print(cirq.Circuit.from_ops(cirq.decompose_once(HX(a))))"
      ],
      "execution_count": 0,
      "outputs": [
        {
          "output_type": "stream",
          "text": [
            "a: ───H───X───\n"
          ],
          "name": "stdout"
        }
      ]
    },
    {
      "cell_type": "markdown",
      "metadata": {
        "id": "sQ5N0UR26G_v",
        "colab_type": "text"
      },
      "source": [
        "When we define a gate, it is good practice to give a default decompose in terms of gates in `common_gates`.  However often you will want to change this decomposition at run time for the specific hardware or context you are working in.  To do this we can define an interceptor function which does this decomposition before falling back to the default."
      ]
    },
    {
      "cell_type": "code",
      "metadata": {
        "id": "0sJ1uY6X7l3t",
        "colab_type": "code",
        "outputId": "19e4222a-d4f2-4685-ef6f-d2107ba2ba3f",
        "colab": {
          "base_uri": "https://localhost:8080/",
          "height": 35
        }
      },
      "source": [
        "def my_decompose(op):\n",
        "    if isinstance(op, cirq.GateOperation) and isinstance(op.gate, HXGate):\n",
        "        return cirq.Z(*op.qubits), cirq.H(*op.qubits)\n",
        "\n",
        "cirq.Circuit.from_ops(cirq.decompose(HX(a), intercepting_decomposer=my_decompose))"
      ],
      "execution_count": 0,
      "outputs": [
        {
          "output_type": "execute_result",
          "data": {
            "text/html": [
              "<pre style=\"overflow: auto; white-space: pre;\">a: ───Z───Y^0.5───X───</pre>"
            ],
            "text/plain": [
              "a: ───Z───Y^0.5───X───"
            ]
          },
          "metadata": {
            "tags": []
          },
          "execution_count": 35
        }
      ]
    },
    {
      "cell_type": "markdown",
      "metadata": {
        "id": "OChSQ05Z06mL",
        "colab_type": "text"
      },
      "source": [
        "You can also define a predicate that says which gates to keep without decomposing further.\n",
        "The default predicate is to only keep gates that cannot be decomposed."
      ]
    },
    {
      "cell_type": "code",
      "metadata": {
        "id": "KQ2in0ol05S9",
        "colab_type": "code",
        "outputId": "da3ecf3f-751f-4ba0-8c44-bc2904a4ef58",
        "colab": {
          "base_uri": "https://localhost:8080/",
          "height": 34
        }
      },
      "source": [
        "def keep_h_and_x(op):\n",
        "    return isinstance(op, cirq.GateOperation) and op.gate in [cirq.H, cirq.X]\n",
        "\n",
        "print(cirq.decompose(HX(a), keep=keep_h_and_x))"
      ],
      "execution_count": 0,
      "outputs": [
        {
          "output_type": "stream",
          "text": [
            "[cirq.H.on(cirq.NamedQubit('a')), cirq.X.on(cirq.NamedQubit('a'))]\n"
          ],
          "name": "stdout"
        }
      ]
    },
    {
      "cell_type": "markdown",
      "metadata": {
        "id": "3HtlMxa6QpVo",
        "colab_type": "text"
      },
      "source": [
        "## Parameterized Circuits\n",
        "\n",
        "In addition to circuit gates with fixed values, Cirq also supports parameterized gates with symbolic values via `sympy`. These are placeholder values, such as `sympy.Symbol('x')`, that will only be resolved at *run-time*. For simulators these values are resolved by providing a `ParamResolver`.  A `ParamResolver` provides a map from the `Symbol`'s name to its assigned value.  Plain python dictionaries can be used whenever a `ParamResolver` is needed."
      ]
    },
    {
      "cell_type": "code",
      "metadata": {
        "id": "TIaVRzCD4deU",
        "colab_type": "code",
        "outputId": "f21183a6-dfff-44b3-d771-21e93f9b6636",
        "colab": {
          "base_uri": "https://localhost:8080/",
          "height": 195
        }
      },
      "source": [
        "import sympy as sp\n",
        "\n",
        "a = cirq.NamedQubit('a')\n",
        "b = cirq.NamedQubit('b')\n",
        "simulator = cirq.Simulator()\n",
        "\n",
        "val = sp.Symbol('s')\n",
        "pow_x_gate = cirq.X**val\n",
        "circuit = cirq.Circuit()\n",
        "circuit.append([pow_x_gate(a), pow_x_gate(b)])\n",
        "print('Circuit with parameterized gates:')\n",
        "print(circuit)\n",
        "print()\n",
        "for y in range(5):\n",
        "    result = simulator.simulate(circuit, param_resolver={'s': y / 4.0})\n",
        "    print('s={}: {}'.format(y, np.around(result.final_state, 2)))"
      ],
      "execution_count": 0,
      "outputs": [
        {
          "output_type": "stream",
          "text": [
            "Circuit with parameterized gates:\n",
            "a: ───X^s───\n",
            "\n",
            "b: ───X^s───\n",
            "\n",
            "s=0: [1.+0.j 0.+0.j 0.+0.j 0.+0.j]\n",
            "s=1: [ 0.6 +0.6j   0.25-0.25j  0.25-0.25j -0.1 -0.1j ]\n",
            "s=2: [0. +0.5j 0.5+0.j  0.5+0.j  0. -0.5j]\n",
            "s=3: [-0.1 +0.1j   0.25+0.25j  0.25+0.25j  0.6 -0.6j ]\n",
            "s=4: [0.+0.j 0.+0.j 0.+0.j 1.+0.j]\n"
          ],
          "name": "stdout"
        }
      ]
    },
    {
      "cell_type": "markdown",
      "metadata": {
        "id": "1_2i73Oo4aM1",
        "colab_type": "text"
      },
      "source": [
        "Here we see that the `Symbol` is used in two gates, and then the resolver provides this value at run time.\n",
        "\n",
        "Parameterized values are most useful in defining what we call a `Study`.  A `Study` is a collection of trials, where each  trial is a run with a particular set of configurations and which may be run repeatedly.  Running a study returns a list of `TrialResult`s per set of fixed parameter values and repetitions.  Example:\n"
      ]
    },
    {
      "cell_type": "code",
      "metadata": {
        "id": "Gj_Y3Lrh49o9",
        "colab_type": "code",
        "outputId": "239e3ead-4acf-408b-fca2-762e0407e07e",
        "colab": {
          "base_uri": "https://localhost:8080/",
          "height": 497
        }
      },
      "source": [
        "resolvers = [cirq.ParamResolver({'s': y / 8.0}) for y in range(9)]\n",
        "circuit = cirq.Circuit()\n",
        "circuit.append([pow_x_gate(a), pow_x_gate(b)])\n",
        "circuit.append([cirq.measure(a), cirq.measure(b)])\n",
        "results = simulator.run_sweep(program=circuit,\n",
        "                              params=resolvers,\n",
        "                              repetitions=10)\n",
        "for i, result in enumerate(results):\n",
        "    print('params: {}\\n{}'.format(result.params.param_dict, result))"
      ],
      "execution_count": 0,
      "outputs": [
        {
          "output_type": "stream",
          "text": [
            "params: {'s': 0.0}\n",
            "a=0000000000\n",
            "b=0000000000\n",
            "params: {'s': 0.125}\n",
            "a=0000000010\n",
            "b=0001000000\n",
            "params: {'s': 0.25}\n",
            "a=0100000000\n",
            "b=1100000000\n",
            "params: {'s': 0.375}\n",
            "a=0000000001\n",
            "b=0000001010\n",
            "params: {'s': 0.5}\n",
            "a=0110111010\n",
            "b=0110010100\n",
            "params: {'s': 0.625}\n",
            "a=1110111110\n",
            "b=1011011110\n",
            "params: {'s': 0.75}\n",
            "a=1110111101\n",
            "b=1111011111\n",
            "params: {'s': 0.875}\n",
            "a=1111111111\n",
            "b=1111111111\n",
            "params: {'s': 1.0}\n",
            "a=1111111111\n",
            "b=1111111111\n"
          ],
          "name": "stdout"
        }
      ]
    },
    {
      "cell_type": "markdown",
      "metadata": {
        "id": "av09E7pH44YO",
        "colab_type": "text"
      },
      "source": [
        "Above we passed in a list of `ParamResolver`s to the `params` parameter of `run_sweep`.  But one can also pass in a `Sweepable`.  There are some useful methods for generating `Sweepable`s, for example to generate an equally spaced set of param resolvers one can use `Linspace`\n"
      ]
    },
    {
      "cell_type": "code",
      "metadata": {
        "id": "zOymGxlb72Fk",
        "colab_type": "code",
        "outputId": "27f35607-79e8-4120-ec34-2a28371c6ba9",
        "colab": {
          "base_uri": "https://localhost:8080/",
          "height": 213
        }
      },
      "source": [
        "linspace = cirq.Linspace(start=0, stop=1.0, length=11, key='x')\n",
        "for p in linspace:\n",
        "    print(p)"
      ],
      "execution_count": 0,
      "outputs": [
        {
          "output_type": "stream",
          "text": [
            "cirq.ParamResolver(OrderedDict([('x', 0.0)]))\n",
            "cirq.ParamResolver(OrderedDict([('x', 0.1)]))\n",
            "cirq.ParamResolver(OrderedDict([('x', 0.2)]))\n",
            "cirq.ParamResolver(OrderedDict([('x', 0.3)]))\n",
            "cirq.ParamResolver(OrderedDict([('x', 0.4)]))\n",
            "cirq.ParamResolver(OrderedDict([('x', 0.5)]))\n",
            "cirq.ParamResolver(OrderedDict([('x', 0.6)]))\n",
            "cirq.ParamResolver(OrderedDict([('x', 0.7)]))\n",
            "cirq.ParamResolver(OrderedDict([('x', 0.8)]))\n",
            "cirq.ParamResolver(OrderedDict([('x', 0.9)]))\n",
            "cirq.ParamResolver(OrderedDict([('x', 1.0)]))\n"
          ],
          "name": "stdout"
        }
      ]
    },
    {
      "cell_type": "markdown",
      "metadata": {
        "id": "r-CjbPwkRI_I",
        "colab_type": "text"
      },
      "source": [
        "### Exercise: Rotate a qubit\n",
        "\n",
        "Let's do the equivalent of a Rabi-flop experiment.  That is lets apply an `PowXGate` rotating about the `X` axis for a linearly spaced set of values followed by a computational basis measurement.  The end result should be a plot of the sampled fraction that were $|1\\rangle$ as a function of gates of $X^t$ for $t$ between 0 and $1$ for 100 values of $t$ and each result sampled 100 times.\n",
        "\n",
        "You can use matplotlib to plot this, see example plot code below."
      ]
    },
    {
      "cell_type": "code",
      "metadata": {
        "id": "F63NaIkg84ga",
        "colab_type": "code",
        "outputId": "01b4e4fd-8e24-48f3-c6c7-e4836d77283f",
        "colab": {
          "base_uri": "https://localhost:8080/",
          "height": 280
        }
      },
      "source": [
        "import matplotlib.pyplot as plt\n",
        "plt.plot([1, 2, 3], [5, 3, 10])"
      ],
      "execution_count": 0,
      "outputs": [
        {
          "output_type": "execute_result",
          "data": {
            "text/plain": [
              "[<matplotlib.lines.Line2D at 0x7f73f1cb3e80>]"
            ]
          },
          "metadata": {
            "tags": []
          },
          "execution_count": 39
        },
        {
          "output_type": "display_data",
          "data": {
            "image/png": "[encoded data removed]",
            "text/plain": [
              "<Figure size 432x288 with 1 Axes>"
            ]
          },
          "metadata": {
            "tags": []
          }
        }
      ]
    },
    {
      "cell_type": "code",
      "metadata": {
        "id": "8yW2e3sq9JM8",
        "colab_type": "code",
        "colab": {}
      },
      "source": [
        "# Insert your code here"
      ],
      "execution_count": 0,
      "outputs": []
    },
    {
      "cell_type": "markdown",
      "metadata": {
        "id": "FEM73JPALREa",
        "colab_type": "text"
      },
      "source": [
        "## Noise\n",
        "\n",
        "In addition to circuits with unitary gates, Cirq also has support for modeling noisy quantum evolutions. This is useful when modeling what will happen when running on actual hardware.\n",
        "\n",
        "Cirq currently supports noise that fits within the context of *operator sum representations* of noise (a.k.a quantum operations, quantum dyanamical maps, superoperators, etc).  This formalism models the evolution of a density matrix via \n",
        "$$\\rho \\rightarrow \\sum_k A_k \\rho A_k^\\dagger$$\n",
        "where the $A_k$ are *Krauss operators*.  These operators are not necessarily unitary and satisfy the property\n",
        "$$ \\sum_k A_k^\\dagger A_k = I$$\n",
        "\n",
        "An example of a noise operator is the depolarizing channel on one qubit.  This takes\n",
        "$$\\rho \\rightarrow (1-p) \\rho + \\frac{p}{3} (X \\rho X + Y \\rho Y + Z \\rho Z)$$\n",
        "In Cirq we can define such a channel and use it in a quantum circuit:"
      ]
    },
    {
      "cell_type": "code",
      "metadata": {
        "id": "YclVFbKZ0aD4",
        "colab_type": "code",
        "outputId": "9218bc01-eaf1-4b06-885a-2145b8fb0444",
        "colab": {
          "base_uri": "https://localhost:8080/",
          "height": 35
        }
      },
      "source": [
        "circuit = cirq.Circuit.from_ops(cirq.depolarize(0.2)(a), cirq.measure(a))\n",
        "print(circuit)"
      ],
      "execution_count": 0,
      "outputs": [
        {
          "output_type": "stream",
          "text": [
            "a: ───D(0.2)───M───\n"
          ],
          "name": "stdout"
        }
      ]
    },
    {
      "cell_type": "markdown",
      "metadata": {
        "id": "CvteYd9s00t_",
        "colab_type": "text"
      },
      "source": [
        "Previously we saw that gates could implement that `_unitary_` protocol, and by doing so they could be used to perform wave function simulation.  For noise the gates implement the `_channel_` protocol.  Classes that implement this protocol return the Krauss operators on their `_channel_` method.  Thus"
      ]
    },
    {
      "cell_type": "code",
      "metadata": {
        "id": "0ig_NSrS12PE",
        "colab_type": "code",
        "outputId": "7c2519ee-5121-4adc-d9e6-0386576c931b",
        "colab": {
          "base_uri": "https://localhost:8080/",
          "height": 248
        }
      },
      "source": [
        "for i, krauss in enumerate(cirq.channel(cirq.depolarize(0.2))):\n",
        "    print('{}th krauss operator is {}'.format(i, krauss))\n",
        "print()\n",
        "\n",
        "for i, krauss in enumerate(cirq.channel(cirq.depolarize(0.2))):\n",
        "    pauli_ex = cirq.expand_matrix_in_orthogonal_basis(krauss, cirq.PAULI_BASIS)\n",
        "    print('{}th krauss operator is {}'.format(i, pauli_ex))"
      ],
      "execution_count": 0,
      "outputs": [
        {
          "output_type": "stream",
          "text": [
            "0th krauss operator is [[0.89442719 0.        ]\n",
            " [0.         0.89442719]]\n",
            "1th krauss operator is [[0.        +0.j 0.25819889+0.j]\n",
            " [0.25819889+0.j 0.        +0.j]]\n",
            "2th krauss operator is [[0.+0.j         0.-0.25819889j]\n",
            " [0.+0.25819889j 0.+0.j        ]]\n",
            "3th krauss operator is [[ 0.25819889+0.j  0.        +0.j]\n",
            " [ 0.        +0.j -0.25819889+0.j]]\n",
            "\n",
            "0th krauss operator is 0.8944271909999159*I\n",
            "1th krauss operator is 0.2581988897471611*X\n",
            "2th krauss operator is 0.2581988897471611*Y\n",
            "3th krauss operator is 0.2581988897471611*Z\n"
          ],
          "name": "stdout"
        }
      ]
    },
    {
      "cell_type": "markdown",
      "metadata": {
        "id": "spU2l26r0tQS",
        "colab_type": "text"
      },
      "source": [
        "In addition to the wave function simulator, Cirq also has a density matrix simulator.  Instead of keeping track of the wave function this simulator keeps track of the density matrix.  It has the same `run` and `simulate` type methods.  For example we can use this to simulate depolarizing channel and return the final density matrix of the system"
      ]
    },
    {
      "cell_type": "code",
      "metadata": {
        "id": "skLIvXYq4yvX",
        "colab_type": "code",
        "outputId": "530083fb-66b6-4f8d-8343-3fbbad2bed1d",
        "colab": {
          "base_uri": "https://localhost:8080/",
          "height": 124
        }
      },
      "source": [
        "circuit = cirq.Circuit.from_ops(cirq.depolarize(0.2)(a))\n",
        "print('Circuit:\\n{}\\n'.format(circuit))\n",
        "simulator = cirq.DensityMatrixSimulator()\n",
        "matrix = simulator.simulate(circuit).final_density_matrix\n",
        "print('Final density matrix:\\n{}'.format(matrix))"
      ],
      "execution_count": 0,
      "outputs": [
        {
          "output_type": "stream",
          "text": [
            "Circuit:\n",
            "a: ───D(0.2)───\n",
            "\n",
            "Final density matrix:\n",
            "[[0.8666666 +0.j 0.        +0.j]\n",
            " [0.        +0.j 0.13333333+0.j]]\n"
          ],
          "name": "stdout"
        }
      ]
    },
    {
      "cell_type": "markdown",
      "metadata": {
        "id": "Eudp7NYo51LT",
        "colab_type": "text"
      },
      "source": [
        "One thing to note is that the density matrix simulator simulates measurement statistically, and not as a channel where the outcome is not known.  Thus for example "
      ]
    },
    {
      "cell_type": "code",
      "metadata": {
        "id": "_SjPRrIX5F4O",
        "colab_type": "code",
        "outputId": "fe015980-fbd6-4f86-f99a-993e66fcb57b",
        "colab": {
          "base_uri": "https://localhost:8080/",
          "height": 195
        }
      },
      "source": [
        "circuit = cirq.Circuit.from_ops(cirq.depolarize(0.2)(a), cirq.measure(a))\n",
        "simulator = cirq.DensityMatrixSimulator()\n",
        "for _ in range(5):\n",
        "    print(simulator.simulate(circuit).final_density_matrix)"
      ],
      "execution_count": 0,
      "outputs": [
        {
          "output_type": "stream",
          "text": [
            "[[0.       +0.j 0.       +0.j]\n",
            " [0.       +0.j 0.9999999+0.j]]\n",
            "[[0.       +0.j 0.       +0.j]\n",
            " [0.       +0.j 0.9999999+0.j]]\n",
            "[[0.99999994+0.j 0.        +0.j]\n",
            " [0.        +0.j 0.        +0.j]]\n",
            "[[0.99999994+0.j 0.        +0.j]\n",
            " [0.        +0.j 0.        +0.j]]\n",
            "[[0.99999994+0.j 0.        +0.j]\n",
            " [0.        +0.j 0.        +0.j]]\n"
          ],
          "name": "stdout"
        }
      ]
    },
    {
      "cell_type": "markdown",
      "metadata": {
        "id": "3qUM-Kpi8Iy4",
        "colab_type": "text"
      },
      "source": [
        "### Monte carlo simulations\n",
        "\n",
        "Density matrix simulations are more expensive than pure state wave function simulations.  However some channels allow an interpreation of randomly applying one of a fixed set of unitaries with differing probabilites.  For example the depolarizing channel above can be interpretted as: with probability $1-p$ apply the identity to the state and with probability $p$ apply one of the three Pauli matrices $X$, $Y$, or $Z$ with equal probability.  Channels that can be interpretted in this form can be simulating using a wave function simulator: when this channel is simulated the simulation will sample a unitary with the appropriate probability.  \n",
        "\n",
        "For channels of these type, the channel can, instead of implementing the `_channel_` protocol, implement the `_mixture_` protocol:"
      ]
    },
    {
      "cell_type": "code",
      "metadata": {
        "id": "9Pt7o-Tq2SNz",
        "colab_type": "code",
        "outputId": "16c898db-bbcb-49cb-8594-0adbd2c0943b",
        "colab": {
          "base_uri": "https://localhost:8080/",
          "height": 373
        }
      },
      "source": [
        "for p, u in cirq.mixture(cirq.depolarize(0.2)):\n",
        "    print('prob={}\\nunitary\\n{}\\n'.format(p, u))"
      ],
      "execution_count": 0,
      "outputs": [
        {
          "output_type": "stream",
          "text": [
            "prob=0.8\n",
            "unitary\n",
            "[[1. 0.]\n",
            " [0. 1.]]\n",
            "\n",
            "prob=0.06666666666666667\n",
            "unitary\n",
            "[[0.+0.j 1.+0.j]\n",
            " [1.+0.j 0.+0.j]]\n",
            "\n",
            "prob=0.06666666666666667\n",
            "unitary\n",
            "[[0.+0.j 0.-1.j]\n",
            " [0.+1.j 0.+0.j]]\n",
            "\n",
            "prob=0.06666666666666667\n",
            "unitary\n",
            "[[ 1.+0.j  0.+0.j]\n",
            " [ 0.+0.j -1.+0.j]]\n",
            "\n"
          ],
          "name": "stdout"
        }
      ]
    },
    {
      "cell_type": "markdown",
      "metadata": {
        "id": "z4FIsadc4Nmg",
        "colab_type": "text"
      },
      "source": [
        "In fact the depolarizing channel does not implement `_channel_`.  Instead it only implements `_mixture_` and the `cirq.channel` method notices this and derives the channel from the mixture."
      ]
    },
    {
      "cell_type": "code",
      "metadata": {
        "id": "HvhpBD334o1v",
        "colab_type": "code",
        "outputId": "274137c8-9947-428c-8cc0-c39f2d81d0f7",
        "colab": {
          "base_uri": "https://localhost:8080/",
          "height": 53
        }
      },
      "source": [
        "d = cirq.depolarize(0.2)\n",
        "print('does cirq.depolarize(0.2) have _channel_? {}'.format('yes' if getattr(d, '_channel_', None) else 'no'))\n",
        "print('does cirq.depolarize(0.2) have _mixture_? {}'.format('yes' if getattr(d, '_mixture_', None) else 'no'))"
      ],
      "execution_count": 0,
      "outputs": [
        {
          "output_type": "stream",
          "text": [
            "does cirq.depolarize(0.2) have _channel_? no\n",
            "does cirq.depolarize(0.2) have _mixture_? yes\n"
          ],
          "name": "stdout"
        }
      ]
    },
    {
      "cell_type": "markdown",
      "metadata": {
        "id": "OMCyapOd28h2",
        "colab_type": "text"
      },
      "source": [
        "When channels implement mixture then, as we said, we can use the wave function simulator:"
      ]
    },
    {
      "cell_type": "code",
      "metadata": {
        "id": "vDEhGG0v-UJy",
        "colab_type": "code",
        "outputId": "a526bad0-3f8f-4260-db16-1bc5c7b47659",
        "colab": {
          "base_uri": "https://localhost:8080/",
          "height": 34
        }
      },
      "source": [
        "circuit = cirq.Circuit.from_ops(cirq.depolarize(0.5).on(a), cirq.measure(a))\n",
        "simulator = cirq.Simulator()\n",
        "result = simulator.run(circuit, repetitions=10)\n",
        "print(result)"
      ],
      "execution_count": 0,
      "outputs": [
        {
          "output_type": "stream",
          "text": [
            "a=0100010000\n"
          ],
          "name": "stdout"
        }
      ]
    },
    {
      "cell_type": "markdown",
      "metadata": {
        "id": "weWPzaPx8zly",
        "colab_type": "text"
      },
      "source": [
        "### Adding Noise to Circuits and Simulations"
      ]
    },
    {
      "cell_type": "markdown",
      "metadata": {
        "id": "X-dT_CLu0fH9",
        "colab_type": "text"
      },
      "source": [
        "To add noise to circuits or during simulations, we provide the notion of a `NoiseModel`.  A `NoiseModel` may add noise operation by operation, or it may add noise moment by moment, or it may add noise across a list of moments.\n",
        "\n",
        "For example we can define a noise model that add a single qubit depolarizing for every qubit in each moment.  "
      ]
    },
    {
      "cell_type": "code",
      "metadata": {
        "id": "PfRP7K598wNQ",
        "colab_type": "code",
        "outputId": "c51d2c2f-f338-42aa-c87d-d40adf2342c1",
        "colab": {
          "base_uri": "https://localhost:8080/",
          "height": 170
        }
      },
      "source": [
        "noise = cirq.ConstantQubitNoiseModel(cirq.depolarize(0.2))\n",
        "circuit = cirq.Circuit.from_ops(cirq.H(a), cirq.CNOT(a, b), cirq.measure(a, b))\n",
        "print('Circuit with no noise:\\n{}\\n'.format(circuit))\n",
        "\n",
        "system_qubits = sorted(circuit.all_qubits())\n",
        "noisy_circuit = cirq.Circuit()\n",
        "for moment in circuit:\n",
        "    noisy_circuit.append(noise.noisy_moment(moment, system_qubits))\n",
        "print('Circuit with noise:\\n{}'.format(noisy_circuit))\n"
      ],
      "execution_count": 0,
      "outputs": [
        {
          "output_type": "stream",
          "text": [
            "Circuit with no noise:\n",
            "a: ───H───@───M───\n",
            "          │   │\n",
            "b: ───────X───M───\n",
            "\n",
            "Circuit with noise:\n",
            "a: ───H────────D(0.2)───@───D(0.2)───M───D(0.2)───\n",
            "                        │            │\n",
            "b: ───D(0.2)────────────X───D(0.2)───M───D(0.2)───\n"
          ],
          "name": "stdout"
        }
      ]
    },
    {
      "cell_type": "code",
      "metadata": {
        "id": "uzxaFCGIz2aQ",
        "colab_type": "code",
        "outputId": "2e4dc8dd-d146-48af-ea2c-75b6d49d653c",
        "colab": {
          "base_uri": "https://localhost:8080/",
          "height": 323
        }
      },
      "source": [
        "noise = cirq.ConstantQubitNoiseModel(cirq.depolarize(0.2))\n",
        "circuit = cirq.Circuit.from_ops(cirq.H(a), cirq.CNOT(a, b), cirq.measure(a, b))\n",
        "\n",
        "simulator = cirq.DensityMatrixSimulator(noise=noise)\n",
        "for i, step in enumerate(simulator.simulate_moment_steps(circuit)):\n",
        "    print('After step {} state was\\n{}\\n'.format(i, step.density_matrix()))"
      ],
      "execution_count": 0,
      "outputs": [
        {
          "output_type": "stream",
          "text": [
            "After step 0 state was\n",
            "[[0.4333333 +0.j 0.        +0.j 0.31777775+0.j 0.        +0.j]\n",
            " [0.        +0.j 0.06666666+0.j 0.        +0.j 0.04888888+0.j]\n",
            " [0.31777775+0.j 0.        +0.j 0.4333333 +0.j 0.        +0.j]\n",
            " [0.        +0.j 0.04888888+0.j 0.        +0.j 0.06666666+0.j]]\n",
            "\n",
            "After step 1 state was\n",
            "[[0.34859255+0.j 0.        +0.j 0.        +0.j 0.17089382+0.j]\n",
            " [0.        +0.j 0.15140739+0.j 0.02629136+0.j 0.        +0.j]\n",
            " [0.        +0.j 0.02629136+0.j 0.15140739+0.j 0.        +0.j]\n",
            " [0.17089382+0.j 0.        +0.j 0.        +0.j 0.34859255+0.j]]\n",
            "\n",
            "After step 2 state was\n",
            "[[0.11555554+0.j 0.        +0.j 0.        +0.j 0.        +0.j]\n",
            " [0.        +0.j 0.75111103+0.j 0.        +0.j 0.        +0.j]\n",
            " [0.        +0.j 0.        +0.j 0.01777777+0.j 0.        +0.j]\n",
            " [0.        +0.j 0.        +0.j 0.        +0.j 0.11555553+0.j]]\n",
            "\n"
          ],
          "name": "stdout"
        }
      ]
    },
    {
      "cell_type": "markdown",
      "metadata": {
        "id": "PvJCA3e0QsuI",
        "colab_type": "text"
      },
      "source": [
        "## Devices\n",
        "\n",
        "NISQ algorithms work in a regime where every gate counts.  A key philosophy behind Cirq is that we believe the details of the hardware, the performance characteristics, as well as device constraints, will be key to getting the most out of NISQ algorithms.  Towards this end these hardware features are contained in the `Device` class.\n",
        "\n",
        "For example, here is Google's Bristleconde device"
      ]
    },
    {
      "cell_type": "code",
      "metadata": {
        "id": "BmzxGpDB9jJ4",
        "colab_type": "code",
        "outputId": "edf50bbf-1bcc-4816-ed53-3959afa3c4ac",
        "colab": {
          "base_uri": "https://localhost:8080/",
          "height": 544
        }
      },
      "source": [
        "print(cirq.google.Bristlecone)"
      ],
      "execution_count": 0,
      "outputs": [
        {
          "output_type": "stream",
          "text": [
            "                                             (0, 5)────(0, 6)\n",
            "                                             │         │\n",
            "                                             │         │\n",
            "                                    (1, 4)───(1, 5)────(1, 6)────(1, 7)\n",
            "                                    │        │         │         │\n",
            "                                    │        │         │         │\n",
            "                           (2, 3)───(2, 4)───(2, 5)────(2, 6)────(2, 7)───(2, 8)\n",
            "                           │        │        │         │         │        │\n",
            "                           │        │        │         │         │        │\n",
            "                  (3, 2)───(3, 3)───(3, 4)───(3, 5)────(3, 6)────(3, 7)───(3, 8)───(3, 9)\n",
            "                  │        │        │        │         │         │        │        │\n",
            "                  │        │        │        │         │         │        │        │\n",
            "         (4, 1)───(4, 2)───(4, 3)───(4, 4)───(4, 5)────(4, 6)────(4, 7)───(4, 8)───(4, 9)───(4, 10)\n",
            "         │        │        │        │        │         │         │        │        │        │\n",
            "         │        │        │        │        │         │         │        │        │        │\n",
            "(5, 0)───(5, 1)───(5, 2)───(5, 3)───(5, 4)───(5, 5)────(5, 6)────(5, 7)───(5, 8)───(5, 9)───(5, 10)───(5, 11)\n",
            "         │        │        │        │        │         │         │        │        │        │\n",
            "         │        │        │        │        │         │         │        │        │        │\n",
            "         (6, 1)───(6, 2)───(6, 3)───(6, 4)───(6, 5)────(6, 6)────(6, 7)───(6, 8)───(6, 9)───(6, 10)\n",
            "                  │        │        │        │         │         │        │        │\n",
            "                  │        │        │        │         │         │        │        │\n",
            "                  (7, 2)───(7, 3)───(7, 4)───(7, 5)────(7, 6)────(7, 7)───(7, 8)───(7, 9)\n",
            "                           │        │        │         │         │        │\n",
            "                           │        │        │         │         │        │\n",
            "                           (8, 3)───(8, 4)───(8, 5)────(8, 6)────(8, 7)───(8, 8)\n",
            "                                    │        │         │         │\n",
            "                                    │        │         │         │\n",
            "                                    (9, 4)───(9, 5)────(9, 6)────(9, 7)\n",
            "                                             │         │\n",
            "                                             │         │\n",
            "                                             (10, 5)───(10, 6)\n"
          ],
          "name": "stdout"
        }
      ]
    },
    {
      "cell_type": "markdown",
      "metadata": {
        "id": "GGejgRf0AGni",
        "colab_type": "text"
      },
      "source": [
        "In a future version, we intend for each `Device` to define a noise model.\n",
        "\n",
        "`Device`s also contain more information about the timing of the device.  For example here we can calculate the duration of an `Exp11Gate` on the `Bristlecone` device"
      ]
    },
    {
      "cell_type": "code",
      "metadata": {
        "id": "HAwdWkprAPXN",
        "colab_type": "code",
        "outputId": "af744f29-b3ab-4d9b-a2a7-2bd7f435c68b",
        "colab": {
          "base_uri": "https://localhost:8080/",
          "height": 34
        }
      },
      "source": [
        "brissy = cirq.google.Bristlecone\n",
        "op = cirq.X.on(cirq.GridQubit(5, 5))\n",
        "print(brissy.duration_of(op))"
      ],
      "execution_count": 0,
      "outputs": [
        {
          "output_type": "stream",
          "text": [
            "20ns\n"
          ],
          "name": "stdout"
        }
      ]
    },
    {
      "cell_type": "markdown",
      "metadata": {
        "id": "IxnyURhnAdph",
        "colab_type": "text"
      },
      "source": [
        "Another property of devices is that they can be used to enforce constraints from the hardware, both checking that these constraints are satisfied, but also enforcing the constraints on the device.  For example on the `Bristlecone` device a two qubit gate has the property that one cannot simultaneously perform a pair of two qubit gates that act on adjacent qubits. So for example if we create such a `Circuit` and validate it using the device it will yell at us"
      ]
    },
    {
      "cell_type": "code",
      "metadata": {
        "id": "r5F4FUtmA5kW",
        "colab_type": "code",
        "outputId": "5e3fe3c9-e0d3-4bed-e8f9-24cabe0b17cf",
        "colab": {
          "base_uri": "https://localhost:8080/",
          "height": 494
        }
      },
      "source": [
        "q55 = cirq.GridQubit(5, 5)\n",
        "q56 = cirq.GridQubit(5, 6)\n",
        "q66 = cirq.GridQubit(6, 6)\n",
        "q67 = cirq.GridQubit(6, 7)\n",
        "ops = [cirq.CZ(q55, q56), cirq.CZ(q66, q67)]\n",
        "circuit = cirq.Circuit.from_ops(ops)\n",
        "print(circuit)\n",
        "print('But when we validate it against the device:')\n",
        "cirq.google.Bristlecone.validate_circuit(circuit)\n",
        "# (this should throw an error)"
      ],
      "execution_count": 0,
      "outputs": [
        {
          "output_type": "stream",
          "text": [
            "(5, 5): ───@───\n",
            "           │\n",
            "(5, 6): ───@───\n",
            "\n",
            "(6, 6): ───@───\n",
            "           │\n",
            "(6, 7): ───@───\n",
            "But when we validate it against the device:\n"
          ],
          "name": "stdout"
        },
        {
          "output_type": "error",
          "ename": "ValueError",
          "evalue": "ignored",
          "traceback": [
            "\u001b[0;31m---------------------------------------------------------------------------\u001b[0m",
            "\u001b[0;31mValueError\u001b[0m                                Traceback (most recent call last)",
            "\u001b[0;32m<ipython-input-49-28d48e3edbcf>\u001b[0m in \u001b[0;36m<module>\u001b[0;34m()\u001b[0m\n\u001b[1;32m      7\u001b[0m \u001b[0mprint\u001b[0m\u001b[0;34m(\u001b[0m\u001b[0mcircuit\u001b[0m\u001b[0;34m)\u001b[0m\u001b[0;34m\u001b[0m\u001b[0;34m\u001b[0m\u001b[0m\n\u001b[1;32m      8\u001b[0m \u001b[0mprint\u001b[0m\u001b[0;34m(\u001b[0m\u001b[0;34m'But when we validate it against the device:'\u001b[0m\u001b[0;34m)\u001b[0m\u001b[0;34m\u001b[0m\u001b[0;34m\u001b[0m\u001b[0m\n\u001b[0;32m----> 9\u001b[0;31m \u001b[0mcirq\u001b[0m\u001b[0;34m.\u001b[0m\u001b[0mgoogle\u001b[0m\u001b[0;34m.\u001b[0m\u001b[0mBristlecone\u001b[0m\u001b[0;34m.\u001b[0m\u001b[0mvalidate_circuit\u001b[0m\u001b[0;34m(\u001b[0m\u001b[0mcircuit\u001b[0m\u001b[0;34m)\u001b[0m\u001b[0;34m\u001b[0m\u001b[0;34m\u001b[0m\u001b[0m\n\u001b[0m\u001b[1;32m     10\u001b[0m \u001b[0;31m# (this should throw an error)\u001b[0m\u001b[0;34m\u001b[0m\u001b[0;34m\u001b[0m\u001b[0;34m\u001b[0m\u001b[0m\n",
            "\u001b[0;32m/usr/local/lib/python3.6/dist-packages/cirq/google/xmon_device.py\u001b[0m in \u001b[0;36mvalidate_circuit\u001b[0;34m(self, circuit)\u001b[0m\n\u001b[1;32m    146\u001b[0m \u001b[0;34m\u001b[0m\u001b[0m\n\u001b[1;32m    147\u001b[0m     \u001b[0;32mdef\u001b[0m \u001b[0mvalidate_circuit\u001b[0m\u001b[0;34m(\u001b[0m\u001b[0mself\u001b[0m\u001b[0;34m,\u001b[0m \u001b[0mcircuit\u001b[0m\u001b[0;34m:\u001b[0m \u001b[0mcircuits\u001b[0m\u001b[0;34m.\u001b[0m\u001b[0mCircuit\u001b[0m\u001b[0;34m)\u001b[0m\u001b[0;34m:\u001b[0m\u001b[0;34m\u001b[0m\u001b[0;34m\u001b[0m\u001b[0m\n\u001b[0;32m--> 148\u001b[0;31m         \u001b[0msuper\u001b[0m\u001b[0;34m(\u001b[0m\u001b[0;34m)\u001b[0m\u001b[0;34m.\u001b[0m\u001b[0mvalidate_circuit\u001b[0m\u001b[0;34m(\u001b[0m\u001b[0mcircuit\u001b[0m\u001b[0;34m)\u001b[0m\u001b[0;34m\u001b[0m\u001b[0;34m\u001b[0m\u001b[0m\n\u001b[0m\u001b[1;32m    149\u001b[0m         \u001b[0m_verify_unique_measurement_keys\u001b[0m\u001b[0;34m(\u001b[0m\u001b[0mcircuit\u001b[0m\u001b[0;34m.\u001b[0m\u001b[0mall_operations\u001b[0m\u001b[0;34m(\u001b[0m\u001b[0;34m)\u001b[0m\u001b[0;34m)\u001b[0m\u001b[0;34m\u001b[0m\u001b[0;34m\u001b[0m\u001b[0m\n\u001b[1;32m    150\u001b[0m \u001b[0;34m\u001b[0m\u001b[0m\n",
            "\u001b[0;32m/usr/local/lib/python3.6/dist-packages/cirq/devices/device.py\u001b[0m in \u001b[0;36mvalidate_circuit\u001b[0;34m(self, circuit)\u001b[0m\n\u001b[1;32m     82\u001b[0m         \"\"\"\n\u001b[1;32m     83\u001b[0m         \u001b[0;32mfor\u001b[0m \u001b[0mmoment\u001b[0m \u001b[0;32min\u001b[0m \u001b[0mcircuit\u001b[0m\u001b[0;34m:\u001b[0m\u001b[0;34m\u001b[0m\u001b[0;34m\u001b[0m\u001b[0m\n\u001b[0;32m---> 84\u001b[0;31m             \u001b[0mself\u001b[0m\u001b[0;34m.\u001b[0m\u001b[0mvalidate_moment\u001b[0m\u001b[0;34m(\u001b[0m\u001b[0mmoment\u001b[0m\u001b[0;34m)\u001b[0m\u001b[0;34m\u001b[0m\u001b[0;34m\u001b[0m\u001b[0m\n\u001b[0m\u001b[1;32m     85\u001b[0m \u001b[0;34m\u001b[0m\u001b[0m\n\u001b[1;32m     86\u001b[0m     \u001b[0;32mdef\u001b[0m \u001b[0mvalidate_moment\u001b[0m\u001b[0;34m(\u001b[0m\u001b[0mself\u001b[0m\u001b[0;34m,\u001b[0m \u001b[0mmoment\u001b[0m\u001b[0;34m:\u001b[0m \u001b[0;34m'cirq.Moment'\u001b[0m\u001b[0;34m)\u001b[0m \u001b[0;34m->\u001b[0m \u001b[0;32mNone\u001b[0m\u001b[0;34m:\u001b[0m\u001b[0;34m\u001b[0m\u001b[0;34m\u001b[0m\u001b[0m\n",
            "\u001b[0;32m/usr/local/lib/python3.6/dist-packages/cirq/google/xmon_device.py\u001b[0m in \u001b[0;36mvalidate_moment\u001b[0;34m(self, moment)\u001b[0m\n\u001b[1;32m    160\u001b[0m                                 cast(ops.GateOperation, other))):\n\u001b[1;32m    161\u001b[0m                         raise ValueError(\n\u001b[0;32m--> 162\u001b[0;31m                             'Adjacent Exp11 operations: {}.'.format(moment))\n\u001b[0m\u001b[1;32m    163\u001b[0m \u001b[0;34m\u001b[0m\u001b[0m\n\u001b[1;32m    164\u001b[0m     def can_add_operation_into_moment(self,\n",
            "\u001b[0;31mValueError\u001b[0m: Adjacent Exp11 operations: CZ((5, 5), (5, 6)) and CZ((6, 6), (6, 7))."
          ]
        }
      ]
    },
    {
      "cell_type": "markdown",
      "metadata": {
        "id": "XkNPbeFDBTL4",
        "colab_type": "text"
      },
      "source": [
        "But more interestingly we could have passed the device into the `Circuit` and it will perform the creation of the circuit (using the insertion semanics as described above) such that the device cannot violate the constraints."
      ]
    },
    {
      "cell_type": "code",
      "metadata": {
        "id": "5BOBUIEIBeQ5",
        "colab_type": "code",
        "outputId": "77abccff-b2f8-49bd-9dbd-91804583862f",
        "colab": {
          "base_uri": "https://localhost:8080/",
          "height": 136
        }
      },
      "source": [
        "ops = [cirq.CZ(q55, q56), cirq.CZ(q66, q67)]\n",
        "circuit = cirq.Circuit(device=cirq.google.Bristlecone)\n",
        "circuit.append(ops)\n",
        "print(circuit)\n"
      ],
      "execution_count": 0,
      "outputs": [
        {
          "output_type": "stream",
          "text": [
            "(5, 5): ───@───────\n",
            "           │\n",
            "(5, 6): ───@───────\n",
            "\n",
            "(6, 6): ───────@───\n",
            "               │\n",
            "(6, 7): ───────@───\n"
          ],
          "name": "stdout"
        }
      ]
    },
    {
      "cell_type": "markdown",
      "metadata": {
        "id": "lyFcloaARXg4",
        "colab_type": "text"
      },
      "source": [
        "### Exercise: Make a Device\n",
        "\n",
        "Construct a device that acts on a square sized lattice, and only allows Hadamard, CZ, and measurement gates."
      ]
    },
    {
      "cell_type": "code",
      "metadata": {
        "id": "zDE-19I_a3on",
        "colab_type": "code",
        "colab": {}
      },
      "source": [
        "# your code here"
      ],
      "execution_count": 0,
      "outputs": []
    },
    {
      "cell_type": "markdown",
      "metadata": {
        "id": "J9ia4eatUQ_x",
        "colab_type": "text"
      },
      "source": [
        "## Compiling / Optimizing\n",
        "\n",
        "Cirq's philosophy for what are often called compilation steps is slightly non-traditional.  In particular we believe that NISQ devices perform so few gates that many compiliations will be one or a few passes. A useful class of optimization codee for this is the `PointOptimizer`. For example here is a `PointOptimizer` that recognizes that a `X` gate followed by a `Z` gate is equivalent to a `Y` gate"
      ]
    },
    {
      "cell_type": "code",
      "metadata": {
        "id": "l7eFMVe1GEe2",
        "colab_type": "code",
        "outputId": "c6eea3f6-b16c-4ada-e424-ee4d18ad4ca3",
        "colab": {
          "base_uri": "https://localhost:8080/",
          "height": 170
        }
      },
      "source": [
        "class XZOptimizer(cirq.PointOptimizer):\n",
        "    \"\"\"Replaces an X followed by a Z with a Y.\"\"\"\n",
        "    \n",
        "    def optimization_at(self, circuit, index, op):\n",
        "        # Is the gate an X gate?\n",
        "        if isinstance(op, cirq.GateOperation) and (op.gate == cirq.X):\n",
        "            next_op_index = circuit.next_moment_operating_on(op.qubits, index + 1)\n",
        "            qubit = op.qubits[0]\n",
        "            if next_op_index is not None:\n",
        "                next_op = circuit.operation_at(qubit, next_op_index)\n",
        "                if isinstance(next_op, cirq.GateOperation) and  (next_op.gate == cirq.Z):\n",
        "                    new_op = cirq.Y.on(qubit)\n",
        "                    return cirq.PointOptimizationSummary(\n",
        "                        clear_span = next_op_index - index + 1,\n",
        "                        clear_qubits=op.qubits, \n",
        "                        new_operations=[new_op])\n",
        "        \n",
        "opt = XZOptimizer()\n",
        "circuit = cirq.Circuit.from_ops(cirq.X(a), cirq.Z(a), cirq.CZ(a, b), cirq.X(a))\n",
        "print('Before\\n{}\\n'. format(circuit))\n",
        "opt.optimize_circuit(circuit)\n",
        "print('After\\n{}'.format(circuit))"
      ],
      "execution_count": 0,
      "outputs": [
        {
          "output_type": "stream",
          "text": [
            "Before\n",
            "a: ───X───Z───@───X───\n",
            "              │\n",
            "b: ───────────@───────\n",
            "\n",
            "After\n",
            "a: ───Y───────@───X───\n",
            "              │\n",
            "b: ───────────@───────\n"
          ],
          "name": "stdout"
        }
      ]
    },
    {
      "cell_type": "markdown",
      "metadata": {
        "id": "--aUfkiaUb3S",
        "colab_type": "text"
      },
      "source": [
        "### Exercise: Simplify flipped CNOTs\n",
        "\n",
        "Write an PointOptimizer that performs (greedily) the simplification that\n",
        "\n",
        "```\n",
        "a: ───H───@───H───\n",
        "          │\n",
        "b: ───H───X───H───\n",
        "```\n",
        "is equal to\n",
        "\n",
        "\n",
        "```\n",
        "a: ───X───\n",
        "      │\n",
        "b: ───@───\n",
        "```\n",
        "\n",
        "\n",
        "\n"
      ]
    },
    {
      "cell_type": "code",
      "metadata": {
        "id": "S0PThmctKFxl",
        "colab_type": "code",
        "colab": {}
      },
      "source": [
        "# Insert your code here."
      ],
      "execution_count": 0,
      "outputs": []
    },
    {
      "cell_type": "code",
      "metadata": {
        "id": "75D9xMroKNDG",
        "colab_type": "code",
        "colab": {}
      },
      "source": [
        "# Here is a circuit to test this on.\n",
        "circuit = cirq.Circuit.from_ops(cirq.H(a), cirq.H(a), cirq.H(b), \n",
        "                                cirq.CNOT(a, b), cirq.H(a), cirq.H(b), \n",
        "                                cirq.CZ(a, b))\n",
        "# Instantiate your optimizer\n",
        "\n",
        "# And check that it worked.\n",
        "print(my_opt.optimizer_circuit(circuit))"
      ],
      "execution_count": 0,
      "outputs": []
    },
    {
      "cell_type": "markdown",
      "metadata": {
        "id": "gM1ZW7TstvK9",
        "colab_type": "text"
      },
      "source": [
        "## Google's Xmon Gates\n",
        "\n",
        "We built Cirq at Google because we thought that it was important that hardware details flow up through the level of abstractions in a framework for NISQ algorithms.  And we also built it because Google has a class of superconducting qubit devices where we want to explore NISQ algorithms.  \n",
        "\n",
        "What sort of gates does the xmon architecture support?  At the hardware level the basic gate set is rotations about the Pauli $Z$ axis\n",
        "$$\\exp(-iZt) = \\left[ \n",
        "\\begin{array}\n",
        "e^{it} & 0 \\\\\n",
        "0 & e^{-it}\n",
        "\\end{array}\n",
        "\\right]$$\n",
        "Rotations about any axis in the Pauli $X$ and $Y$ plane:\n",
        "$$\\exp(-i(\\cos \\theta X + \\sin \\theta Y) t) = \n",
        "\\left[\n",
        "\\begin{array}\n",
        "\\cos t & -i\\sin t e^{-i \\theta} \\\\\n",
        "-i\\sin t e^{i \\theta} & \\cos t\n",
        "\\end{array}\n",
        "\\right]\n",
        "$$\n",
        "The two qubit gate is a phase about the $|11\\rangle$ state:\n",
        "$$\n",
        "\\exp(-it |11\\rangle \\langle 11|) =\n",
        "\\left[ \n",
        "\\begin{array}\n",
        "1 & 0 & 0 & 0 \\\\\n",
        "0 & 1 & 0 & 0 \\\\\n",
        "0 & 0 & 1 & 0 \\\\\n",
        "0 & 0 & 0 & \\exp(-it)\n",
        "\\end{array}\n",
        "\\right]\n",
        "$$\n",
        "And finally a measurement in the computational basis.\n",
        "\n",
        "Many of the common gates in Cirq are directly accessible on this hardware.  To check whether the gate you are using is in the xmon gate set, one can use `is_native_xmon_op`.\n",
        "\n"
      ]
    },
    {
      "cell_type": "code",
      "metadata": {
        "id": "-SqOf-yt2XL3",
        "colab_type": "code",
        "outputId": "5874c96d-adf6-400a-e487-9addfe9b3475",
        "colab": {
          "base_uri": "https://localhost:8080/",
          "height": 34
        }
      },
      "source": [
        "cirq.google.is_native_xmon_op(cirq.X.on(cirq.NamedQubit('a')))"
      ],
      "execution_count": 0,
      "outputs": [
        {
          "output_type": "execute_result",
          "data": {
            "text/plain": [
              "True"
            ]
          },
          "metadata": {
            "tags": []
          },
          "execution_count": 51
        }
      ]
    },
    {
      "cell_type": "code",
      "metadata": {
        "id": "yutgDgR72aUi",
        "colab_type": "code",
        "outputId": "fe59939f-9118-4074-aebe-38849ef8d9c4",
        "colab": {
          "base_uri": "https://localhost:8080/",
          "height": 34
        }
      },
      "source": [
        "cirq.google.is_native_xmon_op(cirq.CNOT.on(cirq.NamedQubit('a'), cirq.NamedQubit('b')))"
      ],
      "execution_count": 0,
      "outputs": [
        {
          "output_type": "execute_result",
          "data": {
            "text/plain": [
              "False"
            ]
          },
          "metadata": {
            "tags": []
          },
          "execution_count": 52
        }
      ]
    },
    {
      "cell_type": "markdown",
      "metadata": {
        "id": "4FEVSq1T2n2J",
        "colab_type": "text"
      },
      "source": [
        "When a gate is not a native xmon gate, Cirq can often convert it to an xmon native gate;"
      ]
    },
    {
      "cell_type": "code",
      "metadata": {
        "id": "AdqDGjqL2lI2",
        "colab_type": "code",
        "outputId": "3343a271-3d0f-4fe2-fe8f-303de7fa26b8",
        "colab": {
          "base_uri": "https://localhost:8080/",
          "height": 68
        }
      },
      "source": [
        "converter = cirq.google.ConvertToXmonGates()\n",
        "converted = converter.convert(cirq.CNOT.on(cirq.NamedQubit('a'), cirq.NamedQubit('b')))\n",
        "print(cirq.Circuit.from_ops(converted))"
      ],
      "execution_count": 0,
      "outputs": [
        {
          "output_type": "stream",
          "text": [
            "a: ───Z^0.75────X^0.5────S^-1───Y^-0.5───@───S^-1───Y^0.5───Y^0.5─────Z^-0.75───\n",
            "                                         │\n",
            "b: ───X^-0.25───Y^-0.5───────────────────@───S^-1───Y^0.5───X^-0.25─────────────\n"
          ],
          "name": "stdout"
        }
      ]
    },
    {
      "cell_type": "markdown",
      "metadata": {
        "id": "iR8zA_uY4HRZ",
        "colab_type": "text"
      },
      "source": [
        "This isn't very optimized because what it has done is first rely on the decompose of `CNOT` and then decomposed each of these into native xmon gates.  There are many tricks that one can use to simplify xmon gates.  To apply many of these one can use the `cirq.google.optimize_from_xmon` method:"
      ]
    },
    {
      "cell_type": "code",
      "metadata": {
        "id": "ePc0hrEU2_yy",
        "colab_type": "code",
        "outputId": "34274816-f7b7-4c7b-847d-eed671396a94",
        "colab": {
          "base_uri": "https://localhost:8080/",
          "height": 68
        }
      },
      "source": [
        "circuit = cirq.Circuit.from_ops([cirq.CNOT.on(cirq.NamedQubit('a'), cirq.NamedQubit('b'))])\n",
        "print(cirq.google.optimized_for_xmon(circuit))\n"
      ],
      "execution_count": 0,
      "outputs": [
        {
          "output_type": "stream",
          "text": [
            "a: ───────────────────────@──────────────────────\n",
            "                          │\n",
            "b: ───PhasedX(-0.5)^0.5───@───PhasedX(0.5)^0.5───\n"
          ],
          "name": "stdout"
        }
      ]
    },
    {
      "cell_type": "markdown",
      "metadata": {
        "id": "lImnJ5Co4Y1n",
        "colab_type": "text"
      },
      "source": [
        "Because xmon gates can be executed on Google hardware, they will need to be transmitted as machine code to the quantum computer.  This means that they have a serialized form.  We use protobuffers as the serialization.  To see what this form looks like use `cirq.google.gate_to_proto_dict`:"
      ]
    },
    {
      "cell_type": "code",
      "metadata": {
        "id": "od6ofvow4EoD",
        "colab_type": "code",
        "outputId": "00b2ffad-e60e-4388-cdf1-9b38dd435a59",
        "colab": {
          "base_uri": "https://localhost:8080/",
          "height": 68
        }
      },
      "source": [
        "cirq.google.gate_to_proto_dict(cirq.X, [cirq.GridQubit(5, 5)])"
      ],
      "execution_count": 0,
      "outputs": [
        {
          "output_type": "execute_result",
          "data": {
            "text/plain": [
              "{'exp_w': {'axis_half_turns': {'raw': 0.0},\n",
              "  'half_turns': {'raw': 1.0},\n",
              "  'target': {'col': 5, 'row': 5}}}"
            ]
          },
          "metadata": {
            "tags": []
          },
          "execution_count": 115
        }
      ]
    },
    {
      "cell_type": "markdown",
      "metadata": {
        "id": "uXjS2ro6JL6Y",
        "colab_type": "text"
      },
      "source": [
        "[[[This is where we cut over to demo of running a quantum program via Quantum Engine.]]]"
      ]
    },
    {
      "cell_type": "markdown",
      "metadata": {
        "id": "tMC-nLE474nH",
        "colab_type": "text"
      },
      "source": [
        "# Other interesting things in Cirq\n",
        "\n",
        "**Experiments**. The `cirq.experiments` package can perform and plot the results of some basic experiments for understanding how well a system is performing.\n",
        "\n"
      ]
    },
    {
      "cell_type": "code",
      "metadata": {
        "id": "Ih8YgwX19h2-",
        "colab_type": "code",
        "outputId": "10c06c26-b9e4-4612-aa5d-e8e56bc40778",
        "colab": {
          "base_uri": "https://localhost:8080/",
          "height": 283
        }
      },
      "source": [
        "result = cirq.experiments.rabi_oscillations(\n",
        "    sampler=cirq.Simulator(),  # In the future, sampler could point at real hardware.\n",
        "    qubit=cirq.LineQubit(0)\n",
        ")\n",
        "result.plot()"
      ],
      "execution_count": 0,
      "outputs": [
        {
          "output_type": "display_data",
          "data": {
            "image/png": "[encoded data removed]",
            "text/plain": [
              "<Figure size 432x288 with 1 Axes>"
            ]
          },
          "metadata": {
            "tags": []
          }
        }
      ]
    },
    {
      "cell_type": "markdown",
      "metadata": {
        "id": "38c8tWcX90Zn",
        "colab_type": "text"
      },
      "source": [
        "**Testing**. The `cirq.testing` package has useful debugging and testing methods like `cirq.testing.assert_implements_consistent_protocols` and `cirq.testing.assert_allclose_up_to_global_phase`.\n"
      ]
    },
    {
      "cell_type": "code",
      "metadata": {
        "id": "j7FoZGKv90qe",
        "colab_type": "code",
        "colab": {}
      },
      "source": [
        "class InconsistentXGate(cirq.SingleQubitGate):\n",
        "\n",
        "    def _decompose_(self, qubits):\n",
        "        yield cirq.H(qubits[0])\n",
        "        yield cirq.Z(qubits[0])\n",
        "        yield cirq.H(qubits[0])\n",
        "\n",
        "    def _unitary_(self):\n",
        "        return np.array([[0, -1j], [1j, 0]])  # Oops! Y instead of X!\n",
        "\n",
        "cirq.testing.assert_decompose_is_consistent_with_unitary(InconsistentXGate())"
      ],
      "execution_count": 0,
      "outputs": []
    },
    {
      "cell_type": "markdown",
      "metadata": {
        "id": "iYqy0qwU9sZy",
        "colab_type": "text"
      },
      "source": [
        "**Export**. You can export a circuit as QASM."
      ]
    },
    {
      "cell_type": "code",
      "metadata": {
        "id": "qH7xB-vZ-Jsn",
        "colab_type": "code",
        "outputId": "1d8b453c-43ad-492e-ed21-f92f556e0ce5",
        "colab": {
          "base_uri": "https://localhost:8080/",
          "height": 306
        }
      },
      "source": [
        "a, b, c = cirq.LineQubit.range(3)\n",
        "circuit = cirq.Circuit.from_ops(cirq.H(a), cirq.H(c), cirq.CNOT(a, b), cirq.CCZ(a, b, c))\n",
        "print(circuit.to_qasm())"
      ],
      "execution_count": 0,
      "outputs": [
        {
          "output_type": "stream",
          "text": [
            "// Generated from Cirq v0.5.0\n",
            "\n",
            "OPENQASM 2.0;\n",
            "include \"qelib1.inc\";\n",
            "\n",
            "\n",
            "// Qubits: [0, 1, 2]\n",
            "qreg q[3];\n",
            "\n",
            "\n",
            "h q[0];\n",
            "h q[2];\n",
            "cx q[0],q[1];\n",
            "h q[2];\n",
            "ccx q[0],q[1],q[2];\n",
            "h q[2];\n",
            "\n"
          ],
          "name": "stdout"
        }
      ]
    },
    {
      "cell_type": "markdown",
      "metadata": {
        "id": "QlgFtRQs-TfQ",
        "colab_type": "text"
      },
      "source": [
        "You can also turn a circuit into a link to the drag-and-drop web simulation Quirk (though somewhat inconveniently)."
      ]
    },
    {
      "cell_type": "code",
      "metadata": {
        "id": "Ydst5b0S9IGE",
        "colab_type": "code",
        "outputId": "0d9c8a32-7deb-4703-9488-d9d3f280bf8f",
        "colab": {
          "base_uri": "https://localhost:8080/",
          "height": 34
        }
      },
      "source": [
        "from cirq.contrib.quirk.export_to_quirk import circuit_to_quirk_url\n",
        "print(circuit_to_quirk_url(circuit))"
      ],
      "execution_count": 0,
      "outputs": [
        {
          "output_type": "stream",
          "text": [
            "http://algassert.com/quirk#circuit=%7B%22cols%22%3A%5B%5B%22H%22%2C1%2C%22H%22%5D%2C%5B%22%E2%80%A2%22%2C%22X%22%5D%2C%5B%22%E2%80%A2%22%2C%22%E2%80%A2%22%2C%22Z%22%5D%5D%7D\n"
          ],
          "name": "stdout"
        }
      ]
    }
  ]
}
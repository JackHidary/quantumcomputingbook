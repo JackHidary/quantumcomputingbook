{
  "nbformat": 4,
  "nbformat_minor": 0,
  "metadata": {
    "colab": {
      "name": "NeutralAtom.ipynb",
      "provenance": [],
      "collapsed_sections": [],
      "include_colab_link": true
    },
    "kernelspec": {
      "name": "python3",
      "display_name": "Python 3"
    }
  },
  "cells": [
    {
      "cell_type": "markdown",
      "metadata": {
        "id": "view-in-github",
        "colab_type": "text"
      },
      "source": [
        "<a href=\"https://colab.research.google.com/github/JackHidary/quantumcomputingbook/blob/master/Notes/NeutralAtom.ipynb\" target=\"_parent\"><img src=\"https://colab.research.google.com/assets/colab-badge.svg\" alt=\"Open In Colab\"/></a>"
      ]
    },
    {
      "cell_type": "markdown",
      "metadata": {
        "id": "bNlUyYQcgMF-",
        "colab_type": "text"
      },
      "source": [
        "# **Neutral Atom Device Class**\n",
        "This notebook provides an introductiong to making circuits that are compatable with neutral atom devices in Cirq. The NeutralAtomDevice class is available starting with release 0.5.0."
      ]
    },
    {
      "cell_type": "markdown",
      "metadata": {
        "id": "gJBgV_Wlo0TP",
        "colab_type": "text"
      },
      "source": [
        ""
      ]
    },
    {
      "cell_type": "code",
      "metadata": {
        "id": "GTjMbjyAfJCK",
        "colab_type": "code",
        "outputId": "04ca899f-1b0d-40be-b069-d900cda35231",
        "colab": {
          "base_uri": "https://localhost:8080/",
          "height": 105
        }
      },
      "source": [
        "# install release containing NeutralAtomDevice and IonDevice classes\n",
        "!pip install cirq~=0.5.0 --quiet"
      ],
      "execution_count": 0,
      "outputs": [
        {
          "output_type": "stream",
          "text": [
            "\u001b[K     |████████████████████████████████| 716kB 2.9MB/s \n",
            "\u001b[K     |████████████████████████████████| 12.8MB 11.0MB/s \n",
            "\u001b[31mERROR: plotnine 0.5.1 has requirement matplotlib>=3.0.0, but you'll have matplotlib 2.2.4 which is incompatible.\u001b[0m\n",
            "\u001b[31mERROR: albumentations 0.1.12 has requirement imgaug<0.2.7,>=0.2.5, but you'll have imgaug 0.2.9 which is incompatible.\u001b[0m\n",
            "\u001b[?25h"
          ],
          "name": "stdout"
        }
      ]
    },
    {
      "cell_type": "markdown",
      "metadata": {
        "id": "LVV6w_cLzoPS",
        "colab_type": "text"
      },
      "source": [
        ""
      ]
    },
    {
      "cell_type": "markdown",
      "metadata": {
        "id": "Z0X2AWrhrcHR",
        "colab_type": "text"
      },
      "source": [
        "Let's get some imports out of the way and construct an instance of the NeutralAtomDevice class. We won't worry about the details of the constructor arguments just yet, we just want an instance of the class for demonstration purposes."
      ]
    },
    {
      "cell_type": "code",
      "metadata": {
        "id": "On6Wrh3XhSPO",
        "colab_type": "code",
        "colab": {}
      },
      "source": [
        "import cirq\n",
        "import numpy as np\n",
        "from matplotlib import pyplot as plt\n",
        "\n",
        "ms = cirq.Duration(nanos=10**6)\n",
        "us = cirq.Duration(nanos=10**3)\n",
        "neutral_device = cirq.NeutralAtomDevice(measurement_duration = 5*ms,\n",
        "                                       gate_duration = 100*us,\n",
        "                                       control_radius = 2,\n",
        "                                       max_parallel_z = 3,\n",
        "                                       max_parallel_xy = 3,\n",
        "                                       max_parallel_c = 3,\n",
        "                                       qubits = [cirq.GridQubit(row, col) \n",
        "                                                 for col in range(3) \n",
        "                                                 for row in range(3)])"
      ],
      "execution_count": 0,
      "outputs": []
    },
    {
      "cell_type": "markdown",
      "metadata": {
        "id": "2dl0K4NF3KH7",
        "colab_type": "text"
      },
      "source": [
        ""
      ]
    },
    {
      "cell_type": "markdown",
      "metadata": {
        "id": "v3YMaPw1hfV_",
        "colab_type": "text"
      },
      "source": [
        "## NeutralAtomDevice\n",
        "Disclaimer: As with any proposed architecture for quantum computing, several research groups around the world are working towards a device based on neutral atom qubits. Each research group has a different approach, such as using different atomic species or working with a different number of dimensions of atomic qubit arrays. As such, the NeutralAtomDevice class will not accurately reflect all such devices. The class is based on the two dimensional cesium array at the University of Wisconsin-Madison in the research group of Mark Saffman. Development of this device is being pursued as part of a strategic partnershp between the University of Wisconsin-Madison and ColdQuanta.\n",
        "\n",
        "\n",
        "---\n",
        "\n",
        "### Native Gate Set\n",
        "The gates supported by the NeutralAtomDevice class can be placed in three categories:\n",
        "\n",
        "\n",
        "1.   Single qubit rotations about the Z axis\n",
        "2.   Single qubit rotations about an arbitrary axis in the X-Y plane (I refer to these as XY gates in this tutorial)\n",
        "3.   Controlled gates: CZ, CNOT, CCZ, CCNOT (TOFFOLI)\n",
        "\n",
        "\n",
        "For the single qubit rotations, any rotation angle is fine. However, for the controlled gates, the rotation must be a multiple of $\\pi$ due to the physical implementation of the gates. Cirq supports raising gates to arbitrary exponents. In order to satisfy the restriction of the controlled gate rotation, the exponent of the controlled gate must be an integer.\n",
        "\n",
        "\n",
        "You are allowed to specify the connectivity of the controlled gates via the control_radius argument of the NeutralAtomDevice constructor. This argument specifies the maximum distance between pairs of atoms acted on by a controlled gate. \n",
        "\n",
        "\n",
        "The neutral atom scheme for controlled gates also allows for multiple controls so long as every pair of atoms acted on by the controlled gate are close enough to eachother. The NeutralAtomDevice class does not currently support gates with greater than two controls  but we hope to implement support for them in the near term.\n",
        "\n",
        "\n",
        "---\n",
        "\n",
        "\n",
        "Some examples of gates in Cirq that the device supports are given below."
      ]
    },
    {
      "cell_type": "code",
      "metadata": {
        "id": "Hotk4cHCpXCV",
        "colab_type": "code",
        "colab": {}
      },
      "source": [
        "# Single Qubit Z rotation by Pi/5 radians\n",
        "neutral_device.validate_gate(cirq.Rz(np.pi/5))\n",
        "# Single Qubit rotation about axis in X-Y plane Pi/3 radians from X axis by angle of Pi/7\n",
        "neutral_device.validate_gate(cirq.PhasedXPowGate(phase_exponent=np.pi/3,exponent=np.pi/7))\n",
        "# Controlled gate with integer exponent \n",
        "neutral_device.validate_gate(cirq.CNOT)\n",
        "# Controlled Not gate with two controls\n",
        "neutral_device.validate_gate(cirq.TOFFOLI)"
      ],
      "execution_count": 0,
      "outputs": []
    },
    {
      "cell_type": "markdown",
      "metadata": {
        "id": "nc4zLydMsrkV",
        "colab_type": "text"
      },
      "source": [
        "Some examples of gates in Cirq the device does not support are given below. These code blocks will yield errors describing since the gates are not valid for NeutralAtomDevice."
      ]
    },
    {
      "cell_type": "code",
      "metadata": {
        "id": "ChT4QK7TsabR",
        "colab_type": "code",
        "outputId": "d6adbb1b-ed9f-42b1-9c6b-06008d00134d",
        "colab": {
          "base_uri": "https://localhost:8080/",
          "height": 302
        }
      },
      "source": [
        "#Controlled gate with non-integer exponent (rotation angle must be a multiple of pi)\n",
        "neutral_device.validate_gate(cirq.CZ**1.5)"
      ],
      "execution_count": 0,
      "outputs": [
        {
          "output_type": "error",
          "ename": "ValueError",
          "evalue": "ignored",
          "traceback": [
            "\u001b[0;31m---------------------------------------------------------------------------\u001b[0m",
            "\u001b[0;31mValueError\u001b[0m                                Traceback (most recent call last)",
            "\u001b[0;32m<ipython-input-4-5d3cb9a40015>\u001b[0m in \u001b[0;36m<module>\u001b[0;34m()\u001b[0m\n\u001b[0;32m----> 1\u001b[0;31m \u001b[0mneutral_device\u001b[0m\u001b[0;34m.\u001b[0m\u001b[0mvalidate_gate\u001b[0m\u001b[0;34m(\u001b[0m\u001b[0mcirq\u001b[0m\u001b[0;34m.\u001b[0m\u001b[0mCZ\u001b[0m\u001b[0;34m**\u001b[0m\u001b[0;36m1.5\u001b[0m\u001b[0;34m)\u001b[0m\u001b[0;34m\u001b[0m\u001b[0;34m\u001b[0m\u001b[0m\n\u001b[0m",
            "\u001b[0;32m/usr/local/lib/python3.6/dist-packages/cirq/neutral_atoms/neutral_atom_devices.py\u001b[0m in \u001b[0;36mvalidate_gate\u001b[0;34m(self, gate)\u001b[0m\n\u001b[1;32m    129\u001b[0m                              ops.CCZPowGate)):\n\u001b[1;32m    130\u001b[0m             \u001b[0;32mif\u001b[0m \u001b[0;32mnot\u001b[0m \u001b[0mgate\u001b[0m\u001b[0;34m.\u001b[0m\u001b[0mexponent\u001b[0m\u001b[0;34m.\u001b[0m\u001b[0mis_integer\u001b[0m\u001b[0;34m(\u001b[0m\u001b[0;34m)\u001b[0m\u001b[0;34m:\u001b[0m\u001b[0;34m\u001b[0m\u001b[0;34m\u001b[0m\u001b[0m\n\u001b[0;32m--> 131\u001b[0;31m                 \u001b[0;32mraise\u001b[0m \u001b[0mValueError\u001b[0m\u001b[0;34m(\u001b[0m\u001b[0;34m'controlled gates must have integer exponents'\u001b[0m\u001b[0;34m)\u001b[0m\u001b[0;34m\u001b[0m\u001b[0;34m\u001b[0m\u001b[0m\n\u001b[0m\u001b[1;32m    132\u001b[0m \u001b[0;34m\u001b[0m\u001b[0m\n\u001b[1;32m    133\u001b[0m     \u001b[0;32mdef\u001b[0m \u001b[0mvalidate_operation\u001b[0m\u001b[0;34m(\u001b[0m\u001b[0mself\u001b[0m\u001b[0;34m,\u001b[0m \u001b[0moperation\u001b[0m\u001b[0;34m:\u001b[0m \u001b[0mops\u001b[0m\u001b[0;34m.\u001b[0m\u001b[0mOperation\u001b[0m\u001b[0;34m)\u001b[0m\u001b[0;34m:\u001b[0m\u001b[0;34m\u001b[0m\u001b[0;34m\u001b[0m\u001b[0m\n",
            "\u001b[0;31mValueError\u001b[0m: controlled gates must have integer exponents"
          ]
        }
      ]
    },
    {
      "cell_type": "code",
      "metadata": {
        "id": "UPKPh0XMs7zh",
        "colab_type": "code",
        "outputId": "9111daea-5865-4d73-8aff-f061b683c911",
        "colab": {
          "base_uri": "https://localhost:8080/",
          "height": 302
        }
      },
      "source": [
        "# Hadamard gates rotate about the X-Z axis, which isn't compatable with our single qubit rotations\n",
        "neutral_device.validate_gate(cirq.H)"
      ],
      "execution_count": 0,
      "outputs": [
        {
          "output_type": "error",
          "ename": "ValueError",
          "evalue": "ignored",
          "traceback": [
            "\u001b[0;31m---------------------------------------------------------------------------\u001b[0m",
            "\u001b[0;31mValueError\u001b[0m                                Traceback (most recent call last)",
            "\u001b[0;32m<ipython-input-5-32e25de2a072>\u001b[0m in \u001b[0;36m<module>\u001b[0;34m()\u001b[0m\n\u001b[0;32m----> 1\u001b[0;31m \u001b[0mneutral_device\u001b[0m\u001b[0;34m.\u001b[0m\u001b[0mvalidate_gate\u001b[0m\u001b[0;34m(\u001b[0m\u001b[0mcirq\u001b[0m\u001b[0;34m.\u001b[0m\u001b[0mH\u001b[0m\u001b[0;34m)\u001b[0m\u001b[0;34m\u001b[0m\u001b[0;34m\u001b[0m\u001b[0m\n\u001b[0m",
            "\u001b[0;32m/usr/local/lib/python3.6/dist-packages/cirq/neutral_atoms/neutral_atom_devices.py\u001b[0m in \u001b[0;36mvalidate_gate\u001b[0;34m(self, gate)\u001b[0m\n\u001b[1;32m    123\u001b[0m                                  \u001b[0mops\u001b[0m\u001b[0;34m.\u001b[0m\u001b[0mZPowGate\u001b[0m\u001b[0;34m,\u001b[0m\u001b[0;34m\u001b[0m\u001b[0;34m\u001b[0m\u001b[0m\n\u001b[1;32m    124\u001b[0m                                  ops.IdentityGate)):\n\u001b[0;32m--> 125\u001b[0;31m             \u001b[0;32mraise\u001b[0m \u001b[0mValueError\u001b[0m\u001b[0;34m(\u001b[0m\u001b[0;34m'Unsupported gate: {!r}'\u001b[0m\u001b[0;34m.\u001b[0m\u001b[0mformat\u001b[0m\u001b[0;34m(\u001b[0m\u001b[0mgate\u001b[0m\u001b[0;34m)\u001b[0m\u001b[0;34m)\u001b[0m\u001b[0;34m\u001b[0m\u001b[0;34m\u001b[0m\u001b[0m\n\u001b[0m\u001b[1;32m    126\u001b[0m         if isinstance(gate, (ops.CNotPowGate,\n\u001b[1;32m    127\u001b[0m                              \u001b[0mops\u001b[0m\u001b[0;34m.\u001b[0m\u001b[0mCZPowGate\u001b[0m\u001b[0;34m,\u001b[0m\u001b[0;34m\u001b[0m\u001b[0;34m\u001b[0m\u001b[0m\n",
            "\u001b[0;31mValueError\u001b[0m: Unsupported gate: cirq.H"
          ]
        }
      ]
    },
    {
      "cell_type": "markdown",
      "metadata": {
        "id": "7QvsNStFtXll",
        "colab_type": "text"
      },
      "source": [
        "###Constructor\n",
        "\n",
        "Let's take a look at the constructor for the NeutralAtomDevice class. There are a number of arguments needed to fully parametarize a device. The specific values for these numbers are expected improve over time for any physical device. Instead of constraining ourselves to how the device(s) look at a specific moment in time, the user is allowed to free or constrain themselves as  they see fit.\n",
        "\n",
        "---\n",
        "\n",
        "Gate duration variables: Depending on the specific implementation of the quantum gate, there may be a different amount of time needed to perform various actions. These arguments accept Duration and timedelta objects.\n",
        "\n",
        "*   measurement_duration: How long it takes for the device to measure a qubit\n",
        "\n",
        "*   gate_duration: The maximum amount of time it takes to execute a quantum gate\n",
        "\n",
        "---\n",
        "\n",
        "Parallelism limitations: Neutral atom devices implement quantum gates in one of two ways. One method is by hitting the entire qubit array with microwaves to simultaneously act on every qubit. This method implements global XY gates which take up to 100 microseconds to perform. Alternatively, we can shine laser light on some fraction of the array. Gates of this type typically take around 1 microsecond to perform. This method can act on one or more qubits at a time up to some limit dictated by the available laser power and the beam steering system used to address the qubits. Each category in the native gate set has its own limit.\n",
        "\n",
        "\n",
        "*   max_parallel_z: The maximum number of single qubit Z-axis rotations that can be applied in parallel\n",
        "\n",
        "*   max_parallel_xy: The maximum number of single qubit XY rotations that can be applied in parallel\n",
        "\n",
        "*   max_parallel_c: The maximum number of atoms that can be affected by controlled gates simulataneously\n",
        "\n",
        "Z-axis rotations and XY rotations use different light, so they have independent constraints. However, controlled gates make use of the light used to perform single qubit rotations in addition to extra laser frequencies. As such, the max_parallel_c argument is bounded above by the lesser of max_parallel_z and max_parallel_xy. \n",
        "\n",
        "---\n",
        "\n",
        "Other variables:\n",
        "\n",
        "*   qubits: A list of the qubits on the device. The only supported qubit type is GridQubit.\n",
        "\n",
        "*   control_radius: Every pair of atoms acted on by a controlled gate must be within this maximum distance of eachother for the gate to succeed. The distance is between qubits is measured by using their row and column values as coordinates.\n",
        "\n",
        "\n",
        "---\n",
        "\n",
        "The example device below has the following properties:\n",
        "\n",
        "*   The device is a 3x3 grid of qubits\n",
        "*   Measurements take 5ms\n",
        "*   Gates may take as long as 100us if we utilize global microwave gates. Otherwise, a more reasonable bound would be 1us.\n",
        "*   Controlled gates have next-nearest neighbor connectivity (control_radius of 2)\n",
        "*   A maximum of 3 qubits may be simultaneously acted on by any gate category \n",
        "\n"
      ]
    },
    {
      "cell_type": "code",
      "metadata": {
        "id": "PPYYsBZr2UTD",
        "colab_type": "code",
        "colab": {}
      },
      "source": [
        "ms = cirq.Duration(nanos=10**6)\n",
        "us = cirq.Duration(nanos=10**3)\n",
        "neutral_device = cirq.NeutralAtomDevice(measurement_duration = 5*ms,\n",
        "                                       gate_duration = 100*us,\n",
        "                                       control_radius = 2,\n",
        "                                       max_parallel_z = 3,\n",
        "                                       max_parallel_xy = 3,\n",
        "                                       max_parallel_c = 3,\n",
        "                                       qubits = [cirq.GridQubit(row, col) \n",
        "                                                 for col in range(3) \n",
        "                                                 for row in range(3)])"
      ],
      "execution_count": 0,
      "outputs": []
    },
    {
      "cell_type": "markdown",
      "metadata": {
        "id": "Ug-2oBPPtZzU",
        "colab_type": "text"
      },
      "source": [
        "###Moment/Circuit Rules\n",
        "\n",
        "Now that we know how to parametarize a NeutralAtomDevice, we can discuss some examples of valid and invalid moments and circuits. Each operation in a moment is treated as if they are performed simultaneously. This leaves us with a few constraints we need to abide by.\n",
        "\n",
        "\n",
        "1.   We need to respect the maximum number of parallel gates for any gate type as discussed above\n",
        "2.   All instances of gates in the same category in the same moment must be identical\n",
        "3.   Since controlled gates make use of all types of light used to make gates, controlled gates cannot be applied in parallel with other gate types\n",
        "4.   Qubits acted on by different controlled gates in parallel must be farther apart than control_radius so that the entanglement mechanism doesn't cause the gates to interfere with one another\n",
        "5.   Measurements must be terminal\n",
        "\n",
        "\n",
        "\n",
        "---\n",
        "\n",
        "Some examples of valid moments are given below. We know the moments we constructed were valid because the circuit allowed us to add them knowing that they needed to pass the neutral_device validation methods."
      ]
    },
    {
      "cell_type": "code",
      "metadata": {
        "id": "Nr-rfUgOtDxE",
        "colab_type": "code",
        "outputId": "020b86fa-2aed-4692-98ce-586eb69516ea",
        "colab": {
          "base_uri": "https://localhost:8080/",
          "height": 211
        }
      },
      "source": [
        "# Moment/Circuit Examples\n",
        "moment_circ = cirq.Circuit(device=neutral_device)\n",
        "qubits = [cirq.GridQubit(row, col) for col in range(3) for row in range(3)]\n",
        "\n",
        "# Three qubits affected by a Z gate in parallel with Three qubits affected\n",
        "# by an XY gate\n",
        "operation_list_one = cirq.Z.on_each(*qubits[:3])+cirq.X.on_each(*qubits[3:6])\n",
        "valid_moment_one = cirq.Moment(operation_list_one)\n",
        "moment_circ.append(valid_moment_one)\n",
        "\n",
        "# A TOFFOLI gate on three qubits that are close enough to eachother\n",
        "operation_list_two = [cirq.TOFFOLI.on(*qubits[:3])]\n",
        "valid_moment_two = cirq.Moment(operation_list_two)\n",
        "moment_circ.append(valid_moment_two)\n",
        "\n",
        "\n",
        "print(moment_circ)"
      ],
      "execution_count": 0,
      "outputs": [
        {
          "output_type": "stream",
          "text": [
            "(0, 0): ───Z───@───\n",
            "               │\n",
            "(0, 1): ───X───┼───\n",
            "               │\n",
            "(1, 0): ───Z───@───\n",
            "               │\n",
            "(1, 1): ───X───┼───\n",
            "               │\n",
            "(2, 0): ───Z───X───\n",
            "\n",
            "(2, 1): ───X───────\n"
          ],
          "name": "stdout"
        }
      ]
    },
    {
      "cell_type": "markdown",
      "metadata": {
        "id": "l6jE7NnKtjQU",
        "colab_type": "text"
      },
      "source": [
        "Frequently, you aren't explicitly constructing moments and adding them into circuits. You may more frequently find  yourself directly appending a list of operations into the circuit. Let's look at the result if we attempt this method with a global operation."
      ]
    },
    {
      "cell_type": "code",
      "metadata": {
        "id": "u8oA9R5aCbEP",
        "colab_type": "code",
        "outputId": "88bae769-2f21-43fb-aa8d-805b8e780be9",
        "colab": {
          "base_uri": "https://localhost:8080/",
          "height": 302
        }
      },
      "source": [
        "global_circuit = cirq.Circuit(device=neutral_device)\n",
        "global_list_of_operations = cirq.X.on_each(*qubits)\n",
        "global_circuit.append(global_list_of_operations)\n",
        "print(global_circuit)"
      ],
      "execution_count": 0,
      "outputs": [
        {
          "output_type": "stream",
          "text": [
            "(0, 0): ───X───────────\n",
            "\n",
            "(0, 1): ───────X───────\n",
            "\n",
            "(0, 2): ───────────X───\n",
            "\n",
            "(1, 0): ───X───────────\n",
            "\n",
            "(1, 1): ───────X───────\n",
            "\n",
            "(1, 2): ───────────X───\n",
            "\n",
            "(2, 0): ───X───────────\n",
            "\n",
            "(2, 1): ───────X───────\n",
            "\n",
            "(2, 2): ───────────X───\n"
          ],
          "name": "stdout"
        }
      ]
    },
    {
      "cell_type": "markdown",
      "metadata": {
        "id": "ZPd3emooFqa5",
        "colab_type": "text"
      },
      "source": [
        "That doesn't look right! It looks like the insertion method tried to place the gates in one at a time and decided it needed three moments to satisfy the request. There are two ways of getting around this in Cirq. One is to manually construct the moment as above."
      ]
    },
    {
      "cell_type": "code",
      "metadata": {
        "id": "FxmKkfCEF744",
        "colab_type": "code",
        "outputId": "7c87f248-4672-419e-bb4c-22fd86df3b2d",
        "colab": {
          "base_uri": "https://localhost:8080/",
          "height": 316
        }
      },
      "source": [
        "global_moment_circuit = cirq.Circuit(device=neutral_device)\n",
        "global_moment = cirq.Moment(cirq.X.on_each(*qubits))\n",
        "global_moment_circuit.append(global_moment)\n",
        "print(global_moment_circuit)"
      ],
      "execution_count": 0,
      "outputs": [
        {
          "output_type": "stream",
          "text": [
            "(0, 0): ───X───\n",
            "\n",
            "(0, 1): ───X───\n",
            "\n",
            "(0, 2): ───X───\n",
            "\n",
            "(1, 0): ───X───\n",
            "\n",
            "(1, 1): ───X───\n",
            "\n",
            "(1, 2): ───X───\n",
            "\n",
            "(2, 0): ───X───\n",
            "\n",
            "(2, 1): ───X───\n",
            "\n",
            "(2, 2): ───X───\n"
          ],
          "name": "stdout"
        }
      ]
    },
    {
      "cell_type": "markdown",
      "metadata": {
        "id": "3E-tqsmlGKjD",
        "colab_type": "text"
      },
      "source": [
        "Another way to achieve this task is the ParallelGateOperation class. Most Operation objects correspond to a single gate acting on some qubits. The ParallelGateOperation class corresponds to multiple copies of a single gate acting on some qubits in parallel. Since it is a single operation, the default insertion methods won't break it up into multiple moments when adding it into the circuit!"
      ]
    },
    {
      "cell_type": "code",
      "metadata": {
        "id": "OIZux5rFGrLs",
        "colab_type": "code",
        "outputId": "161e947a-d97f-4c09-ea08-42fa4fd0cb8e",
        "colab": {
          "base_uri": "https://localhost:8080/",
          "height": 302
        }
      },
      "source": [
        "parallel_gate_op_circuit = cirq.Circuit(device=neutral_device)\n",
        "parallel_gate_op = cirq.ParallelGateOperation(cirq.X,qubits)\n",
        "parallel_gate_op_circuit.append(parallel_gate_op)\n",
        "print(parallel_gate_op_circuit)"
      ],
      "execution_count": 0,
      "outputs": [
        {
          "output_type": "stream",
          "text": [
            "(0, 0): ───X───\n",
            "\n",
            "(0, 1): ───X───\n",
            "\n",
            "(0, 2): ───X───\n",
            "\n",
            "(1, 0): ───X───\n",
            "\n",
            "(1, 1): ───X───\n",
            "\n",
            "(1, 2): ───X───\n",
            "\n",
            "(2, 0): ───X───\n",
            "\n",
            "(2, 1): ───X───\n",
            "\n",
            "(2, 2): ───X───\n"
          ],
          "name": "stdout"
        }
      ]
    },
    {
      "cell_type": "markdown",
      "metadata": {
        "id": "1byvHcWvHx-D",
        "colab_type": "text"
      },
      "source": [
        "###Grover's Algorithm\n",
        "Now that we have the details out of the way, we can take a look at what implementing a real quantum algorithm might look like on a NeutralAtomDevice. Since the current limit on having multiple controls on a gate is two, lets look at the three qubit Grover search. For this problem, there is some special target state out of the $N = 2^n$ possible basis states that we'd like to identify. We have access to a quantum oracle that applies a phase to this state relative to every other basis state. The algorithm succeeds if we measure the desired state when we make a measurement on all the qubits after the circuit is run.\n",
        "\n",
        "\n",
        "---\n",
        "\n",
        "Classically, this corresponds to an unordered database search with a database of size $N=2^n$. On average, it will take $N/2$ applications of a classical oracle to find the desired state in the database. With Grover's algorithm, it is possible to succeed with high probability in $O(\\sqrt N)$ applications of the quantum oracle.\n",
        "\n",
        "\n",
        "---\n",
        "\n",
        "Grover's algorithm works by initially preparing the quantum state\n",
        "$$|s\\rangle = \\frac{1}{\\sqrt{N}}\\sum_{x=0}^{N-1}{|x\\rangle}_.$$\n",
        "\n",
        "This is an even superposition of each state in the computational basis and can be obtained by applying a Hadamard gate or a $Y^{1/2}$ gate on a register with each qubit initialized to $|0\\rangle$. After this initial state is prepared, Grover's algorithm consists of applying the quantum oracle followed by a diffusion operator. \n",
        "\n",
        "The quantum oracle places a relative phase on the target state we want to measure and the diffusion operator utilizes that phase difference to amplify the probability of measuring the target state relative to other states in the computational basis.\n",
        "The diffusion operator is given by $U_s = 2 |s\\rangle \\langle s| - I.$\n",
        "\n",
        "\n",
        "---\n",
        "\n",
        "\n",
        "We can calculate the probability of success as a function of the number of repititions R that we apply the oracle and diffusion operator. The result is $$P_{success} = \\sin^2 ((2R+1)\\arcsin(\\frac{1}{\\sqrt{N}})_,$$\n",
        "with the maximum probability of success will occur when $R \\approx \\pi \\sqrt{N}/4.$ \n",
        "\n",
        "\n",
        "---\n",
        "\n",
        "We know what these operators look like in Dirac notation, but now we have to compile them into the language of quantum gates. We'll start with the oracle. We can construct the oracle out of controlled-Z gates and NOT (X) gates. A Controlled-Z gate applies a $\\pi$ phase shift to the state where each qubit is in the $|1 \\rangle $ state. We can select a different state to recieve the phase shift by sandwiching the controlled-Z gate with X gates on any of the qubits whose desired measurement outcome is $|0 \\rangle$. We can implement a generator for the oracle operator with the below code in Cirq."
      ]
    },
    {
      "cell_type": "code",
      "metadata": {
        "id": "uQ50bqZKZXVf",
        "colab_type": "code",
        "outputId": "d188de33-8918-4016-840e-b1f79278bf3c",
        "colab": {
          "base_uri": "https://localhost:8080/",
          "height": 105
        }
      },
      "source": [
        "def oracle(qubits, key_bits):\n",
        "    yield (cirq.X(q) for (q, bit) in zip(qubits, key_bits) if not bit)\n",
        "    yield cirq.CCZ(*qubits)\n",
        "    yield (cirq.X(q) for (q, bit) in zip(qubits, key_bits) if not bit)\n",
        "\n",
        "# Try changing the key to see the relationship between\n",
        "# the placement of the X gates and the key\n",
        "key = (1, 0, 1)\n",
        "qubits = [cirq.GridQubit(0,col) for col in range(3)]\n",
        "oracle_example_circuit = cirq.Circuit().from_ops(oracle(qubits,key))\n",
        "print(oracle_example_circuit)"
      ],
      "execution_count": 0,
      "outputs": [
        {
          "output_type": "stream",
          "text": [
            "(0, 0): ───────@───────\n",
            "               │\n",
            "(0, 1): ───X───@───X───\n",
            "               │\n",
            "(0, 2): ───────@───────\n"
          ],
          "name": "stdout"
        }
      ]
    },
    {
      "cell_type": "markdown",
      "metadata": {
        "id": "hOCGBzJ9dviO",
        "colab_type": "text"
      },
      "source": [
        "A quick Google search of how to implement the diffusion operator will provide us with the below implementation."
      ]
    },
    {
      "cell_type": "code",
      "metadata": {
        "id": "63Y-GsLiH8Nm",
        "colab_type": "code",
        "outputId": "2415d9cd-c7e1-4107-c262-27be128405bc",
        "colab": {
          "base_uri": "https://localhost:8080/",
          "height": 105
        }
      },
      "source": [
        "def diffusion_operator(qubits):\n",
        "    yield cirq.H.on_each(*qubits)\n",
        "    yield cirq.X.on_each(*qubits)\n",
        "    yield cirq.CCZ(*qubits)\n",
        "    yield cirq.X.on_each(*qubits)\n",
        "    yield cirq.H.on_each(*qubits)\n",
        "    \n",
        "qubits = [cirq.GridQubit(0,col) for col in range(3)]\n",
        "diffusion_circuit = cirq.Circuit().from_ops(diffusion_operator(qubits))\n",
        "print(diffusion_circuit)"
      ],
      "execution_count": 0,
      "outputs": [
        {
          "output_type": "stream",
          "text": [
            "(0, 0): ───H───X───@───X───H───\n",
            "                   │\n",
            "(0, 1): ───H───X───@───X───H───\n",
            "                   │\n",
            "(0, 2): ───H───X───@───X───H───\n"
          ],
          "name": "stdout"
        }
      ]
    },
    {
      "cell_type": "markdown",
      "metadata": {
        "id": "yo4E2JSoe00x",
        "colab_type": "text"
      },
      "source": [
        "If we put it all together and note that for the three qubit case, the optimal number of applications of the oracle and diffusion operator is two, we get the below circuit."
      ]
    },
    {
      "cell_type": "code",
      "metadata": {
        "id": "TSfFAmk2e_Q8",
        "colab_type": "code",
        "outputId": "2293ddf5-462d-4392-8807-6dc58e9eea0a",
        "colab": {
          "base_uri": "https://localhost:8080/",
          "height": 105
        }
      },
      "source": [
        "def initial_hadamards(qubits):\n",
        "    yield cirq.H.on_each(*qubits)\n",
        "\n",
        "uncompiled_circuit = cirq.Circuit()\n",
        "key = (1,0,1)\n",
        "qubits = [cirq.GridQubit(0,0),cirq.GridQubit(0,1),cirq.GridQubit(0,2)]\n",
        "uncompiled_circuit.append(initial_hadamards(qubits))\n",
        "uncompiled_circuit.append(oracle(qubits,key))\n",
        "uncompiled_circuit.append(diffusion_operator(qubits))\n",
        "uncompiled_circuit.append(oracle(qubits,key))\n",
        "uncompiled_circuit.append(diffusion_operator(qubits))\n",
        "print(uncompiled_circuit)"
      ],
      "execution_count": 0,
      "outputs": [
        {
          "output_type": "stream",
          "text": [
            "(0, 0): ───H───────@───H───X───────@───X───H───────@───H───X───────@───X───H───\n",
            "                   │               │               │               │\n",
            "(0, 1): ───H───X───@───X───H───X───@───X───H───X───@───X───H───X───@───X───H───\n",
            "                   │               │               │               │\n",
            "(0, 2): ───H───────@───H───X───────@───X───H───────@───H───X───────@───X───H───\n"
          ],
          "name": "stdout"
        }
      ]
    },
    {
      "cell_type": "markdown",
      "metadata": {
        "id": "iTmPFGsahCh-",
        "colab_type": "text"
      },
      "source": [
        "This circuit does implement Grover's algorithm, but it doesn't work for our NeutralAtomDevice class because of the Hadamard gates. The Hadamard gates show up in the Diffusion Operator steps and the initial \"Hadamard Everything\" step. We can simplify the Diffusion Operator definition and the initial Hadamard step by decomposing the Hadamard gate into products of XY gates.\n",
        "\n",
        "\n",
        "*   $H=X Y^{1/2}$ \n",
        "*   $H=Y^{-1/2} X$\n",
        "*  $H=Y^{1/2}Z$\n",
        "\n",
        "Using these two rules, we can instead make a neutral atom comptable version of the circuit given below."
      ]
    },
    {
      "cell_type": "code",
      "metadata": {
        "id": "HsjMeVNkie2b",
        "colab_type": "code",
        "outputId": "ebc7b261-df8e-491a-c71a-0e39632851cf",
        "colab": {
          "base_uri": "https://localhost:8080/",
          "height": 105
        }
      },
      "source": [
        "def neutral_atom_initial_step(qubits):\n",
        "    yield cirq.ParallelGateOperation(cirq.Y**(1/2), qubits)\n",
        "    \n",
        "def neutral_atom_diffusion_operator(qubits):\n",
        "    yield cirq.ParallelGateOperation(cirq.Y**(1/2), qubits)\n",
        "    yield cirq.CCZ(*qubits)\n",
        "    yield cirq.ParallelGateOperation(cirq.Y**(-1/2), qubits)\n",
        "\n",
        "    \n",
        "ms = cirq.Duration(nanos=10**6)\n",
        "us = cirq.Duration(nanos=10**3)\n",
        "qubits = [cirq.GridQubit(row, col) for col in range(3) for row in range(1)]\n",
        "three_qubit_device = cirq.NeutralAtomDevice(measurement_duration = 5*ms,\n",
        "                                           gate_duration = us,\n",
        "                                           control_radius = 2,\n",
        "                                           max_parallel_z = 3,\n",
        "                                           max_parallel_xy = 3,\n",
        "                                           max_parallel_c = 3,\n",
        "                                           qubits=qubits)\n",
        "key = (0,1,0)\n",
        "compiled_grover_circuit = cirq.Circuit(device=three_qubit_device)\n",
        "compiled_grover_circuit.append(neutral_atom_initial_step(qubits))\n",
        "compiled_grover_circuit.append(oracle(qubits,key))\n",
        "compiled_grover_circuit.append(neutral_atom_diffusion_operator(qubits))\n",
        "compiled_grover_circuit.append(oracle(qubits,key))\n",
        "compiled_grover_circuit.append(neutral_atom_diffusion_operator(qubits))\n",
        "print(compiled_grover_circuit)"
      ],
      "execution_count": 0,
      "outputs": [
        {
          "output_type": "stream",
          "text": [
            "(0, 0): ───Y^0.5───X───@───X───Y^0.5───@───Y^-0.5───X───@───X───Y^0.5───@───Y^-0.5───\n",
            "                       │               │                │               │\n",
            "(0, 1): ───Y^0.5───────@───────Y^0.5───@───Y^-0.5───────@───────Y^0.5───@───Y^-0.5───\n",
            "                       │               │                │               │\n",
            "(0, 2): ───Y^0.5───X───@───X───Y^0.5───@───Y^-0.5───X───@───X───Y^0.5───@───Y^-0.5───\n"
          ],
          "name": "stdout"
        }
      ]
    },
    {
      "cell_type": "markdown",
      "metadata": {
        "id": "zBfHYu7lfwbY",
        "colab_type": "text"
      },
      "source": [
        "Let's quickly verify that this implementation of the algorithm on our device actually works by altering the number of times we apply the oracle and diffusion operators. We would expect to reproduce the analytical result given above."
      ]
    },
    {
      "cell_type": "code",
      "metadata": {
        "id": "MUC33tMYgJQV",
        "colab_type": "code",
        "outputId": "572d7c09-7c55-41de-e2b9-8cdf58fc8a9a",
        "colab": {
          "base_uri": "https://localhost:8080/",
          "height": 295
        }
      },
      "source": [
        "def grover_circuit_with_n_repetitions(n, key):\n",
        "    ms = cirq.Duration(nanos=10**6)\n",
        "    us = cirq.Duration(nanos=10**3)\n",
        "    qubits = [cirq.GridQubit(row, col) for col in range(3) for row in range(1)]\n",
        "    three_qubit_device = cirq.NeutralAtomDevice(measurement_duration = 5*ms,\n",
        "                                               gate_duration = us,\n",
        "                                               control_radius = 2,\n",
        "                                               max_parallel_z = 3,\n",
        "                                               max_parallel_xy = 3,\n",
        "                                               max_parallel_c = 3,\n",
        "                                               qubits=qubits)\n",
        "    grover_circuit = cirq.Circuit(device=three_qubit_device)\n",
        "    grover_circuit.append(neutral_atom_initial_step(qubits))\n",
        "    for repetition in range(n):\n",
        "      grover_circuit.append(oracle(qubits,key))\n",
        "      grover_circuit.append(neutral_atom_diffusion_operator(qubits))\n",
        "      \n",
        "    return grover_circuit\n",
        "      \n",
        "success_probabilities = []\n",
        "key = (0,1,1)\n",
        "N = 2**3\n",
        "#Convert key from binary to a base 10 number\n",
        "diag = sum(2**(2-count) for (count, val) in enumerate(key) if val)\n",
        "num_points = 10\n",
        "for repetitions in range(num_points):\n",
        "    test_circuit = grover_circuit_with_n_repetitions(repetitions, key)\n",
        "    sim = cirq.Simulator()\n",
        "    result = sim.simulate(test_circuit)\n",
        "    rho = result.density_matrix_of(qubits)\n",
        "    success_probabilities.append(np.real(rho[diag][diag]))\n",
        "\n",
        "plt.scatter(range(num_points), success_probabilities, label=\"Simulation\")\n",
        "x = np.linspace(0, num_points, 1000)\n",
        "y = np.sin((2*x+1)*np.arcsin(1/np.sqrt(N)))**2\n",
        "plt.plot(x, y, label=\"Theoretical Curve\")\n",
        "plt.title(\"Probability of Success Vs. Number of Oracle-Diffusion Operators\")\n",
        "plt.ylabel(\"Probability of Success\")\n",
        "plt.xlabel(\"Number of Times Oracle and Diffusion Operators are Applied\")\n",
        "plt.legend(loc='upper right')\n",
        "plt.show()"
      ],
      "execution_count": 0,
      "outputs": [
        {
          "output_type": "display_data",
          "data": {
            "image/png": "[encoded data removed]",
            "text/plain": [
              "<Figure size 432x288 with 1 Axes>"
            ]
          },
          "metadata": {
            "tags": []
          }
        }
      ]
    },
    {
      "cell_type": "markdown",
      "metadata": {
        "id": "oSPDCZPCmugO",
        "colab_type": "text"
      },
      "source": [
        "The results match! And we actually see that if we can afford to increase the number of times we apply the oracle and diffusion operators to six, we can get an improved probability of success."
      ]
    }
  ]
}